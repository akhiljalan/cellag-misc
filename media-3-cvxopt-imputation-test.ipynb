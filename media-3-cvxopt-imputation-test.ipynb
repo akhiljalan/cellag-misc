{
 "cells": [
  {
   "cell_type": "code",
   "execution_count": 7,
   "metadata": {},
   "outputs": [],
   "source": [
    "import numpy as np\n",
    "import matplotlib.pyplot as plt\n",
    "import seaborn as sns\n",
    "import pandas as pd\n",
    "import networkx as nx\n",
    "%matplotlib inline\n"
   ]
  },
  {
   "cell_type": "code",
   "execution_count": 8,
   "metadata": {},
   "outputs": [],
   "source": [
    "plt.rcParams['figure.figsize'] = [15, 10]\n",
    "sns.set_style('whitegrid')\n",
    "plt.rcParams['font.size'] = 20.0\n",
    "plt.rcParams['xtick.labelsize'] = 20.0\n",
    "plt.rcParams['ytick.labelsize'] = 20.0\n",
    "import pickle"
   ]
  },
  {
   "cell_type": "code",
   "execution_count": 9,
   "metadata": {},
   "outputs": [],
   "source": [
    "from graph_learning_utils import *"
   ]
  },
  {
   "attachments": {},
   "cell_type": "markdown",
   "metadata": {},
   "source": [
    "# Generate synthetic data"
   ]
  },
  {
   "cell_type": "code",
   "execution_count": 3,
   "metadata": {},
   "outputs": [],
   "source": [
    "n = 20\n",
    "ground_truth_asymm = np.random.uniform(0, 0.5, (n, n))\n",
    "ground_truth_mat = ground_truth_asymm + ground_truth_asymm.T"
   ]
  },
  {
   "cell_type": "code",
   "execution_count": 4,
   "metadata": {},
   "outputs": [],
   "source": [
    "def gen_sample_mat(ground_truth_mat):\n",
    "    '''\n",
    "    Generate a sample matrix from a ground truth matrix\n",
    "    inputs:\n",
    "        ground_truth_mat: A n by n matrix of probabilities\n",
    "    outputs:    \n",
    "        A: a n by n matrix whose entries are 1 \n",
    "        with probability ground_truth_mat[i, j] and 0 otherwise\n",
    "    '''\n",
    "    n = ground_truth_mat.shape[0]\n",
    "    A = np.zeros_like(ground_truth_mat)\n",
    "    for i in range(n):\n",
    "        for j in range(i + 1):\n",
    "            sample = np.random.binomial(1, ground_truth_mat[i, j])\n",
    "            A[i, j] = sample\n",
    "            A[j, i] = sample\n",
    "    return A"
   ]
  },
  {
   "cell_type": "code",
   "execution_count": 6,
   "metadata": {},
   "outputs": [],
   "source": [
    "sample_mats = [gen_sample_mat(ground_truth_mat) for _ in range(11)]\n",
    "\n",
    "scale = np.sum(sample_mats[0])\n",
    "for i in range(len(sample_mats)):\n",
    "    if i > 0:\n",
    "        s = np.sum(sample_mats[i])\n",
    "        rescale = scale / s \n",
    "        sample_mats[i] = rescale * sample_mats[i]"
   ]
  },
  {
   "cell_type": "code",
   "execution_count": 7,
   "metadata": {},
   "outputs": [
    {
     "name": "stdout",
     "output_type": "stream",
     "text": [
      "178.0\n",
      "178.0\n",
      "178.0\n",
      "177.99999999999997\n",
      "178.0\n",
      "178.0\n",
      "178.0\n",
      "177.99999999999997\n",
      "178.00000000000003\n",
      "178.0\n",
      "178.00000000000003\n"
     ]
    }
   ],
   "source": [
    "for i in range(11): \n",
    "    print(np.sum(sample_mats[i]))"
   ]
  },
  {
   "attachments": {},
   "cell_type": "markdown",
   "metadata": {},
   "source": [
    "Notice that the sum of the entries of each matrix is the same, and is near 0.5 * 400. "
   ]
  },
  {
   "attachments": {},
   "cell_type": "markdown",
   "metadata": {},
   "source": [
    "## trying BFGS "
   ]
  },
  {
   "cell_type": "code",
   "execution_count": 28,
   "metadata": {},
   "outputs": [],
   "source": [
    "def matrix_lin_combo(eta_arr, sample_mats): \n",
    "    X_0 = np.copy(eta_arr[0] * sample_mats[0])\n",
    "    for i in range(1, len(sample_mats)): \n",
    "        X_i = eta_arr[i] * (X_0 - sample_mats[i])\n",
    "        X_0 += X_i\n",
    "    return X_0\n"
   ]
  },
  {
   "cell_type": "code",
   "execution_count": 89,
   "metadata": {},
   "outputs": [],
   "source": [
    "def get_delta(X_0): \n",
    "    average_degree = np.mean(np.sum(X_0, axis=0))\n",
    "    return np.sqrt(average_degree)"
   ]
  },
  {
   "cell_type": "code",
   "execution_count": 76,
   "metadata": {},
   "outputs": [],
   "source": [
    "delta = get_delta(sample_mats[0])\n",
    "\n",
    "def objective(eta_arr): \n",
    "    eigs = scipy.linalg.eigh(matrix_lin_combo(eta_arr, sample_mats), eigvals_only=True)\n",
    "    # print('eigs are ', eigs)\n",
    "    if eigs[-1] < delta: \n",
    "        return 0.0\n",
    "    ob1 = eigs[-1] - delta\n",
    "    # print('objective is ', ob1)\n",
    "    return ob1\n",
    "    # ob2 = sum(eigs[-2:]) - 2 * delta\n",
    "    # return max(ob1, ob2)\n",
    "\n",
    "def derivative(eta_arr): \n",
    "    eigvals, eigvecs = scipy.linalg.eigh(matrix_lin_combo(eta_arr, sample_mats))\n",
    "    X_arrs_unscaled = [sample_mats[i] - sample_mats[0] if i !=0 else sample_mats[0] for i in range(len(sample_mats))]\n",
    "\n",
    "    # list of lists \n",
    "    all_quad_forms = np.array([(eigvecs.T.dot(X_arrs_unscaled[i])*eigvecs.T).sum(axis=1) for i in range(len(X_arrs_unscaled))])\n",
    "    # print(np.array(all_quad_forms).shape)\n",
    "    # print(all_quad_forms)\n",
    "    return all_quad_forms[:, 0]\n",
    "\n",
    "    # der_0 = np.trace(sample_mats[0])\n",
    "    # ders = [der_0 - np.trace(sample_mats[i]) for i in range(1, len(sample_mats))]\n",
    "    # return [der_0] + ders"
   ]
  },
  {
   "cell_type": "code",
   "execution_count": 90,
   "metadata": {},
   "outputs": [],
   "source": [
    "def simplex_constraint(eta_arr): \n",
    "    return np.sum(eta_arr) - 1.0"
   ]
  },
  {
   "cell_type": "code",
   "execution_count": 78,
   "metadata": {},
   "outputs": [],
   "source": [
    "eta_init = np.random.uniform(0, 1, len(sample_mats))\n",
    "eta_init = eta_init / np.sum(eta_init)"
   ]
  },
  {
   "cell_type": "code",
   "execution_count": 80,
   "metadata": {},
   "outputs": [
    {
     "data": {
      "text/plain": [
       "array([0.04731304, 0.06775951, 0.10464662, 0.18764521, 0.12973331,\n",
       "       0.00731573, 0.02434206, 0.22071967, 0.15261919, 0.00120965,\n",
       "       0.05669601])"
      ]
     },
     "execution_count": 80,
     "metadata": {},
     "output_type": "execute_result"
    }
   ],
   "source": [
    "eta_init"
   ]
  },
  {
   "cell_type": "code",
   "execution_count": 52,
   "metadata": {},
   "outputs": [
    {
     "data": {
      "text/plain": [
       "array([8.54624141, 0.22087045, 0.38283026, 0.53354853, 0.17369917,\n",
       "       0.34929231, 0.51201137, 0.41772135, 0.39601352, 0.46160701,\n",
       "       0.54641337])"
      ]
     },
     "execution_count": 52,
     "metadata": {},
     "output_type": "execute_result"
    }
   ],
   "source": [
    "derivative(eta_init)"
   ]
  },
  {
   "cell_type": "code",
   "execution_count": 81,
   "metadata": {},
   "outputs": [],
   "source": [
    "delta = 1.0"
   ]
  },
  {
   "cell_type": "code",
   "execution_count": 83,
   "metadata": {},
   "outputs": [
    {
     "name": "stdout",
     "output_type": "stream",
     "text": [
      "Iteration limit reached    (Exit mode 9)\n",
      "            Current function value: 1.589774675732158\n",
      "            Iterations: 10000\n",
      "            Function evaluations: 109990\n",
      "            Gradient evaluations: 10000\n"
     ]
    }
   ],
   "source": [
    "result = scipy.optimize.minimize(\n",
    "    objective,\n",
    "    eta_init,\n",
    "    method='SLSQP',\n",
    "    jac=derivative,\n",
    "    bounds= [(0, 1) for _ in range(len(sample_mats))],\n",
    "    constraints={'type':'eq', 'fun': simplex_constraint}, \n",
    "    options = {\n",
    "        'maxiter': 10000,\n",
    "        'disp': True\n",
    "    }\n",
    ")\n"
   ]
  },
  {
   "cell_type": "code",
   "execution_count": 84,
   "metadata": {},
   "outputs": [
    {
     "data": {
      "text/plain": [
       "     fun: 1.589774675732158\n",
       "     jac: array([8.82156393, 0.02657407, 0.10732784, 0.33253397, 0.05420349,\n",
       "       0.03770293, 0.21368261, 0.19424068, 0.18571477, 0.17777905,\n",
       "       0.18459187])\n",
       " message: 'Iteration limit reached'\n",
       "    nfev: 109990\n",
       "     nit: 10000\n",
       "    njev: 10000\n",
       "  status: 9\n",
       " success: False\n",
       "       x: array([0.04540832, 0.07074011, 0.10869892, 0.18009102, 0.13507234,\n",
       "       0.01184735, 0.02336429, 0.21796214, 0.14648166, 0.00116095,\n",
       "       0.05917291])"
      ]
     },
     "execution_count": 84,
     "metadata": {},
     "output_type": "execute_result"
    }
   ],
   "source": [
    "result"
   ]
  },
  {
   "cell_type": "code",
   "execution_count": 85,
   "metadata": {},
   "outputs": [
    {
     "data": {
      "text/plain": [
       "1.589774675732158"
      ]
     },
     "execution_count": 85,
     "metadata": {},
     "output_type": "execute_result"
    }
   ],
   "source": [
    "objective(result['x'])"
   ]
  },
  {
   "cell_type": "code",
   "execution_count": 86,
   "metadata": {},
   "outputs": [
    {
     "data": {
      "text/plain": [
       "13.675258923714466"
      ]
     },
     "execution_count": 86,
     "metadata": {},
     "output_type": "execute_result"
    }
   ],
   "source": [
    "np.linalg.norm(matrix_lin_combo(result['x'], sample_mats))"
   ]
  },
  {
   "cell_type": "code",
   "execution_count": 87,
   "metadata": {},
   "outputs": [
    {
     "data": {
      "text/plain": [
       "array([-11.95297611,  -2.79777753,  -2.25634521,  -2.02323146,\n",
       "        -1.75641899,  -1.28609646,  -0.77325585,  -0.56405011,\n",
       "        -0.24353004,  -0.13729694,   0.09306884,   0.46593247,\n",
       "         0.71522547,   0.8015545 ,   1.0267085 ,   1.23374934,\n",
       "         1.41870467,   1.77808938,   2.35719043,   2.58977468])"
      ]
     },
     "execution_count": 87,
     "metadata": {},
     "output_type": "execute_result"
    }
   ],
   "source": [
    "scipy.linalg.eigh(matrix_lin_combo(result['x'], sample_mats), eigvals_only=True)"
   ]
  },
  {
   "attachments": {},
   "cell_type": "markdown",
   "metadata": {},
   "source": [
    "## Attempt with multiple eigenvalues"
   ]
  },
  {
   "cell_type": "code",
   "execution_count": 4,
   "metadata": {},
   "outputs": [],
   "source": [
    "sample_mats = generate_synthetic_data(20, 5)"
   ]
  },
  {
   "cell_type": "code",
   "execution_count": 5,
   "metadata": {},
   "outputs": [],
   "source": [
    "delta = get_delta(sample_mats[0])\n",
    "ob1_bool = True \n",
    "\n",
    "def objective(eta_arr): \n",
    "    eigs = scipy.linalg.eigh(matrix_lin_combo(eta_arr, sample_mats), eigvals_only=True)\n",
    "    ob_fn = lambda k: sum(eigs[-k:]) - k * delta\n",
    "    ob1 = ob_fn(1)\n",
    "    ob2 = ob_fn(2)\n",
    "\n",
    "    ob1_bool = (ob1 >= ob2)\n",
    "    print('objective 1 is larger: ', ob1_bool)\n",
    "    print('obj 1 is ', ob1)\n",
    "    print('obj 2 is ', ob2)\n",
    "    if ob1 < 0: \n",
    "        return 0.0\n",
    "    return max(ob1, ob2)\n",
    "\n",
    "def derivative(eta_arr): \n",
    "    eigvals, eigvecs = scipy.linalg.eigh(matrix_lin_combo(eta_arr, sample_mats))\n",
    "    X_arrs_unscaled = [sample_mats[i] - sample_mats[0] if i !=0 else sample_mats[0] for i in range(len(sample_mats))]\n",
    "\n",
    "    # list of lists \n",
    "    all_quad_forms = np.array([(eigvecs.T @ X_arrs_unscaled[i] @ eigvecs.T).sum(axis=1) for i in range(len(X_arrs_unscaled))])\n",
    "    # print(np.array(all_quad_forms).shape)\n",
    "    # print(all_quad_forms)\n",
    "    deriv_lambda_k = lambda k: all_quad_forms[:, k]\n",
    "\n",
    "    if ob1_bool: \n",
    "        return deriv_lambda_k(1)\n",
    "    else: \n",
    "        return deriv_lambda_k(2)\n",
    "\n",
    "    # der_0 = np.trace(sample_mats[0])\n",
    "    # ders = [der_0 - np.trace(sample_mats[i]) for i in range(1, len(sample_mats))]\n",
    "    # return [der_0] + ders"
   ]
  },
  {
   "cell_type": "code",
   "execution_count": 6,
   "metadata": {},
   "outputs": [
    {
     "ename": "TypeError",
     "evalue": "object of type 'int' has no len()",
     "output_type": "error",
     "traceback": [
      "\u001b[0;31m---------------------------------------------------------------------------\u001b[0m",
      "\u001b[0;31mTypeError\u001b[0m                                 Traceback (most recent call last)",
      "\u001b[0;32m/var/folders/bk/cxdpc18j5fsc5wy5447dkm740000gn/T/ipykernel_18129/2948801153.py\u001b[0m in \u001b[0;36m<module>\u001b[0;34m\u001b[0m\n\u001b[0;32m----> 1\u001b[0;31m \u001b[0meta_init\u001b[0m \u001b[0;34m=\u001b[0m \u001b[0mgenerate_random_eta\u001b[0m\u001b[0;34m(\u001b[0m\u001b[0mlen\u001b[0m\u001b[0;34m(\u001b[0m\u001b[0msample_mats\u001b[0m\u001b[0;34m)\u001b[0m\u001b[0;34m)\u001b[0m\u001b[0;34m\u001b[0m\u001b[0;34m\u001b[0m\u001b[0m\n\u001b[0m",
      "\u001b[0;32m~/code/cellag-misc/graph_learning_utils.py\u001b[0m in \u001b[0;36mgenerate_random_eta\u001b[0;34m(m)\u001b[0m\n\u001b[1;32m     63\u001b[0m \u001b[0;34m\u001b[0m\u001b[0m\n\u001b[1;32m     64\u001b[0m \u001b[0;32mdef\u001b[0m \u001b[0mgenerate_random_eta\u001b[0m\u001b[0;34m(\u001b[0m\u001b[0mm\u001b[0m\u001b[0;34m)\u001b[0m\u001b[0;34m:\u001b[0m\u001b[0;34m\u001b[0m\u001b[0;34m\u001b[0m\u001b[0m\n\u001b[0;32m---> 65\u001b[0;31m     \u001b[0meta_init\u001b[0m \u001b[0;34m=\u001b[0m \u001b[0mnp\u001b[0m\u001b[0;34m.\u001b[0m\u001b[0mrandom\u001b[0m\u001b[0;34m.\u001b[0m\u001b[0muniform\u001b[0m\u001b[0;34m(\u001b[0m\u001b[0;36m0\u001b[0m\u001b[0;34m,\u001b[0m \u001b[0;36m1\u001b[0m\u001b[0;34m,\u001b[0m \u001b[0mlen\u001b[0m\u001b[0;34m(\u001b[0m\u001b[0mm\u001b[0m\u001b[0;34m)\u001b[0m\u001b[0;34m)\u001b[0m\u001b[0;34m\u001b[0m\u001b[0;34m\u001b[0m\u001b[0m\n\u001b[0m\u001b[1;32m     66\u001b[0m     \u001b[0meta_init\u001b[0m \u001b[0;34m=\u001b[0m \u001b[0meta_init\u001b[0m \u001b[0;34m/\u001b[0m \u001b[0mnp\u001b[0m\u001b[0;34m.\u001b[0m\u001b[0msum\u001b[0m\u001b[0;34m(\u001b[0m\u001b[0meta_init\u001b[0m\u001b[0;34m)\u001b[0m\u001b[0;34m\u001b[0m\u001b[0;34m\u001b[0m\u001b[0m\n\u001b[1;32m     67\u001b[0m     \u001b[0;32mreturn\u001b[0m \u001b[0meta_init\u001b[0m\u001b[0;34m\u001b[0m\u001b[0;34m\u001b[0m\u001b[0m\n",
      "\u001b[0;31mTypeError\u001b[0m: object of type 'int' has no len()"
     ]
    }
   ],
   "source": [
    "eta_init = generate_random_eta(len(sample_mats))"
   ]
  },
  {
   "cell_type": "code",
   "execution_count": 102,
   "metadata": {},
   "outputs": [
    {
     "name": "stdout",
     "output_type": "stream",
     "text": [
      "objective 1 is larger:  True\n",
      "obj 1 is  0.06454477352714294\n",
      "obj 2 is  -0.39596037323446875\n",
      "objective 1 is larger:  True\n",
      "obj 1 is  0.6112157165394017\n",
      "obj 2 is  0.19827350959031786\n",
      "objective 1 is larger:  True\n",
      "obj 1 is  0.24294392523950803\n",
      "obj 2 is  -0.41451857761397815\n",
      "objective 1 is larger:  True\n",
      "obj 1 is  0.13867545302372575\n",
      "obj 2 is  -0.40370094132586853\n",
      "objective 1 is larger:  True\n",
      "obj 1 is  0.0949717608870686\n",
      "obj 2 is  -0.39718157733813975\n",
      "objective 1 is larger:  True\n",
      "obj 1 is  0.07697325857232817\n",
      "obj 2 is  -0.3960682658751491\n",
      "objective 1 is larger:  True\n",
      "obj 1 is  0.0696211454182647\n",
      "obj 2 is  -0.3959361336960585\n",
      "objective 1 is larger:  True\n",
      "obj 1 is  0.066619180567002\n",
      "obj 2 is  -0.3959388841598832\n",
      "objective 1 is larger:  True\n",
      "obj 1 is  0.06539270422999222\n",
      "obj 2 is  -0.3959496427331546\n",
      "objective 1 is larger:  True\n",
      "obj 1 is  0.06489141907476803\n",
      "obj 2 is  -0.39595566037629215\n",
      "objective 1 is larger:  True\n",
      "obj 1 is  0.06468649518978076\n",
      "obj 2 is  -0.3959583918876275\n",
      "objective 1 is larger:  True\n",
      "obj 1 is  0.06460271605376855\n",
      "obj 2 is  -0.39595955404359895\n",
      "objective 1 is larger:  True\n",
      "obj 1 is  -0.15908921364883133\n",
      "obj 2 is  -0.8271253194908263\n",
      "objective 1 is larger:  True\n",
      "obj 1 is  1.56700700884941\n",
      "obj 2 is  1.4413570705790857\n",
      "objective 1 is larger:  True\n",
      "obj 1 is  -0.6918197073885977\n",
      "obj 2 is  -1.6743681877431262\n",
      "objective 1 is larger:  True\n",
      "obj 1 is  -0.4710925628364908\n",
      "obj 2 is  -1.311387940815142\n",
      "objective 1 is larger:  True\n",
      "obj 1 is  -0.3259677583266476\n",
      "obj 2 is  -1.0837549546208276\n",
      "objective 1 is larger:  True\n",
      "obj 1 is  -0.24511800514963555\n",
      "obj 2 is  -0.9591209714752669\n",
      "objective 1 is larger:  True\n",
      "obj 1 is  -0.20273386692300432\n",
      "obj 2 is  -0.8940566384809072\n",
      "objective 1 is larger:  True\n",
      "obj 1 is  -0.1810669780007368\n",
      "obj 2 is  -0.8608263372961895\n",
      "objective 1 is larger:  True\n",
      "obj 1 is  -0.17011669184402356\n",
      "obj 2 is  -0.8440349339834325\n",
      "objective 1 is larger:  True\n",
      "obj 1 is  -0.1646125690165845\n",
      "obj 2 is  -0.8355949374200646\n",
      "objective 1 is larger:  True\n",
      "obj 1 is  -0.16185329132150228\n",
      "obj 2 is  -0.8313638354737183\n",
      "objective 1 is larger:  True\n",
      "obj 1 is  -0.16047185197337654\n",
      "obj 2 is  -0.8292455047840628\n",
      "Optimization terminated successfully    (Exit mode 0)\n",
      "            Current function value: 0.0\n",
      "            Iterations: 3\n",
      "            Function evaluations: 24\n",
      "            Gradient evaluations: 3\n"
     ]
    },
    {
     "name": "stderr",
     "output_type": "stream",
     "text": [
      "/var/folders/bk/cxdpc18j5fsc5wy5447dkm740000gn/T/ipykernel_12866/3121406032.py:6: DeprecationWarning: scipy.sum is deprecated and will be removed in SciPy 2.0.0, use numpy.sum instead\n",
      "  ob_fn = lambda k: sum(eigs[-k:]) - k * delta\n"
     ]
    }
   ],
   "source": [
    "result = scipy.optimize.minimize(\n",
    "    objective,\n",
    "    eta_init,\n",
    "    method='SLSQP',\n",
    "    jac=derivative,\n",
    "    bounds= [(0, 1) for _ in range(len(sample_mats))],\n",
    "    constraints={'type':'eq', 'fun': simplex_constraint}, \n",
    "    options = {\n",
    "        'maxiter': 10000,\n",
    "        'disp': True\n",
    "    }\n",
    ")"
   ]
  },
  {
   "cell_type": "code",
   "execution_count": 103,
   "metadata": {},
   "outputs": [
    {
     "data": {
      "text/plain": [
       "array([4.05607903e-02, 9.38710629e-02, 1.93963026e-01, 2.07605456e-02,\n",
       "       2.26967420e-01, 9.60581467e-02, 1.09623629e-01, 1.11182913e-02,\n",
       "       5.98343749e-02, 1.70202504e-16, 1.47242714e-01])"
      ]
     },
     "execution_count": 103,
     "metadata": {},
     "output_type": "execute_result"
    }
   ],
   "source": [
    "result['x']"
   ]
  },
  {
   "cell_type": "code",
   "execution_count": 106,
   "metadata": {},
   "outputs": [
    {
     "data": {
      "text/plain": [
       "array([-12.07329944,  -2.64403361,  -2.52416266,  -2.10546059,\n",
       "        -1.64649588,  -1.35195   ,  -1.28289718,  -0.84940453,\n",
       "        -0.34209286,  -0.20873992,  -0.06236138,   0.50364227,\n",
       "         0.72716243,   1.05126816,   1.23935052,   1.47896936,\n",
       "         1.81689553,   2.09493289,   2.31451313,   2.82281493])"
      ]
     },
     "execution_count": 106,
     "metadata": {},
     "output_type": "execute_result"
    }
   ],
   "source": [
    "scipy.linalg.eigh(matrix_lin_combo(\n",
    "    result['x'], sample_mats), eigvals_only=True)\n"
   ]
  },
  {
   "attachments": {},
   "cell_type": "markdown",
   "metadata": {},
   "source": [
    "## Set up pipeline for evaluating synthetic data"
   ]
  },
  {
   "cell_type": "code",
   "execution_count": 111,
   "metadata": {},
   "outputs": [],
   "source": [
    "from graph_learning_utils import *"
   ]
  },
  {
   "cell_type": "code",
   "execution_count": 109,
   "metadata": {},
   "outputs": [],
   "source": [
    "import scipy"
   ]
  },
  {
   "cell_type": "code",
   "execution_count": 112,
   "metadata": {},
   "outputs": [],
   "source": [
    "sample_mats = generate_synthetic_data(20, 5)"
   ]
  },
  {
   "cell_type": "code",
   "execution_count": 113,
   "metadata": {},
   "outputs": [],
   "source": [
    "delta = get_delta(sample_mats[0])\n",
    "ob1_bool = True \n",
    "\n",
    "def objective(eta_arr): \n",
    "    eigs = scipy.linalg.eigh(matrix_lin_combo(eta_arr, sample_mats), eigvals_only=True)\n",
    "    ob_fn = lambda k: sum(eigs[-k:]) - k * delta\n",
    "    ob1 = ob_fn(1)\n",
    "    ob2 = ob_fn(2)\n",
    "\n",
    "    ob1_bool = (ob1 >= ob2)\n",
    "    # print('objective 1 is larger: ', ob1_bool)\n",
    "    # print('obj 1 is ', ob1)\n",
    "    # print('obj 2 is ', ob2)\n",
    "    if ob1 < 0: \n",
    "        return 0.0\n",
    "    return max(ob1, ob2)\n",
    "\n",
    "def derivative(eta_arr): \n",
    "    eigvals, eigvecs = scipy.linalg.eigh(matrix_lin_combo(eta_arr, sample_mats))\n",
    "    X_arrs_unscaled = [sample_mats[i] - sample_mats[0] if i !=0 else sample_mats[0] for i in range(len(sample_mats))]\n",
    "\n",
    "    # list of lists \n",
    "    all_quad_forms = np.array([(eigvecs.T @ X_arrs_unscaled[i] @ eigvecs.T).sum(axis=1) for i in range(len(X_arrs_unscaled))])\n",
    "    # print(np.array(all_quad_forms).shape)\n",
    "    # print(all_quad_forms)\n",
    "    deriv_lambda_k = lambda k: all_quad_forms[:, k]\n",
    "\n",
    "    if ob1_bool: \n",
    "        return deriv_lambda_k(1)\n",
    "    else: \n",
    "        return deriv_lambda_k(2)\n"
   ]
  },
  {
   "cell_type": "code",
   "execution_count": 114,
   "metadata": {},
   "outputs": [],
   "source": [
    "def simplex_constraint(eta_arr): \n",
    "    return np.sum(eta_arr) - 1.0\n",
    "\n",
    "\n",
    "eta_init = np.random.uniform(0, 1, len(sample_mats))\n",
    "eta_init = eta_init / np.sum(eta_init)"
   ]
  },
  {
   "cell_type": "code",
   "execution_count": 115,
   "metadata": {},
   "outputs": [
    {
     "name": "stdout",
     "output_type": "stream",
     "text": [
      "Optimization terminated successfully    (Exit mode 0)\n",
      "            Current function value: 0.0\n",
      "            Iterations: 1\n",
      "            Function evaluations: 12\n",
      "            Gradient evaluations: 1\n"
     ]
    },
    {
     "name": "stderr",
     "output_type": "stream",
     "text": [
      "/var/folders/bk/cxdpc18j5fsc5wy5447dkm740000gn/T/ipykernel_12866/2515464887.py:6: DeprecationWarning: scipy.sum is deprecated and will be removed in SciPy 2.0.0, use numpy.sum instead\n",
      "  ob_fn = lambda k: sum(eigs[-k:]) - k * delta\n"
     ]
    }
   ],
   "source": [
    "result = scipy.optimize.minimize(\n",
    "    objective,\n",
    "    eta_init,\n",
    "    method='SLSQP',\n",
    "    jac=derivative,\n",
    "    bounds= [(0, 1) for _ in range(len(sample_mats))],\n",
    "    constraints={'type':'eq', 'fun': simplex_constraint}, \n",
    "    options = {\n",
    "        'maxiter': 10000,\n",
    "        'disp': True\n",
    "    }\n",
    ")"
   ]
  },
  {
   "cell_type": "code",
   "execution_count": 120,
   "metadata": {},
   "outputs": [
    {
     "data": {
      "text/plain": [
       "     fun: 0.0\n",
       "     jac: array([-0.75495546,  0.6348208 ,  0.33122763,  0.78472973, -0.4199383 ])\n",
       " message: 'Optimization terminated successfully'\n",
       "    nfev: 12\n",
       "     nit: 1\n",
       "    njev: 1\n",
       "  status: 0\n",
       " success: True\n",
       "       x: array([0.28186182, 0.02251383, 0.35208155, 0.33742651, 0.0061163 ])"
      ]
     },
     "execution_count": 120,
     "metadata": {},
     "output_type": "execute_result"
    }
   ],
   "source": [
    "result"
   ]
  },
  {
   "cell_type": "code",
   "execution_count": 119,
   "metadata": {},
   "outputs": [
    {
     "data": {
      "text/plain": [
       "-0.20895599708164303"
      ]
     },
     "execution_count": 119,
     "metadata": {},
     "output_type": "execute_result"
    }
   ],
   "source": [
    "scipy.linalg.eigh(matrix_lin_combo(result['x'], sample_mats), eigvals_only=True)[-1] - delta"
   ]
  },
  {
   "cell_type": "code",
   "execution_count": 149,
   "metadata": {},
   "outputs": [
    {
     "name": "stderr",
     "output_type": "stream",
     "text": [
      "/var/folders/bk/cxdpc18j5fsc5wy5447dkm740000gn/T/ipykernel_12866/2515464887.py:6: DeprecationWarning: scipy.sum is deprecated and will be removed in SciPy 2.0.0, use numpy.sum instead\n",
      "  ob_fn = lambda k: sum(eigs[-k:]) - k * delta\n"
     ]
    }
   ],
   "source": [
    "scores_m_5 = []\n",
    "for _ in range(500): \n",
    "    sample_mats = generate_synthetic_data(20, 5)\n",
    "\n",
    "    delta = get_delta(sample_mats[0])\n",
    "    ob1_bool = True\n",
    "\n",
    "    eta_init = np.random.uniform(0, 1, len(sample_mats))\n",
    "    eta_init = eta_init / np.sum(eta_init)\n",
    "\n",
    "    result = scipy.optimize.minimize(\n",
    "        objective,\n",
    "        eta_init,\n",
    "        method='SLSQP',\n",
    "        jac=derivative,\n",
    "        bounds=[(0, 1) for _ in range(len(sample_mats))],\n",
    "        constraints={'type': 'eq', 'fun': simplex_constraint},\n",
    "        options={\n",
    "            'maxiter': 10000,\n",
    "            'disp': False\n",
    "        }\n",
    "    )\n",
    "\n",
    "    score = scipy.linalg.eigh(matrix_lin_combo(result['x'], sample_mats), eigvals_only=True)[-1] - delta\n",
    "    if score > 0: \n",
    "        ob_value = result['fun']\n",
    "        scores_m_5.append(ob_value)\n",
    "    else: \n",
    "        scores_m_5.append(score)\n",
    "    \n"
   ]
  },
  {
   "cell_type": "code",
   "execution_count": 150,
   "metadata": {},
   "outputs": [
    {
     "name": "stderr",
     "output_type": "stream",
     "text": [
      "/var/folders/bk/cxdpc18j5fsc5wy5447dkm740000gn/T/ipykernel_12866/2515464887.py:6: DeprecationWarning: scipy.sum is deprecated and will be removed in SciPy 2.0.0, use numpy.sum instead\n",
      "  ob_fn = lambda k: sum(eigs[-k:]) - k * delta\n"
     ]
    }
   ],
   "source": [
    "scores_m_4 = []\n",
    "for _ in range(500): \n",
    "    sample_mats = generate_synthetic_data(20, 4)\n",
    "\n",
    "    delta = get_delta(sample_mats[0])\n",
    "    ob1_bool = True\n",
    "\n",
    "    eta_init = np.random.uniform(0, 1, len(sample_mats))\n",
    "    eta_init = eta_init / np.sum(eta_init)\n",
    "\n",
    "    result = scipy.optimize.minimize(\n",
    "        objective,\n",
    "        eta_init,\n",
    "        method='SLSQP',\n",
    "        jac=derivative,\n",
    "        bounds=[(0, 1) for _ in range(len(sample_mats))],\n",
    "        constraints={'type': 'eq', 'fun': simplex_constraint},\n",
    "        options={\n",
    "            'maxiter': 10000,\n",
    "            'disp': False\n",
    "        }\n",
    "    )\n",
    "\n",
    "    score = scipy.linalg.eigh(matrix_lin_combo(result['x'], sample_mats), eigvals_only=True)[-1] - delta\n",
    "    if score > 0: \n",
    "        ob_value = result['fun']\n",
    "        scores_m_4.append(ob_value)\n",
    "    else: \n",
    "        scores_m_4.append(score)\n",
    "    \n"
   ]
  },
  {
   "cell_type": "code",
   "execution_count": 135,
   "metadata": {},
   "outputs": [
    {
     "data": {
      "text/plain": [
       "<AxesSubplot:>"
      ]
     },
     "execution_count": 135,
     "metadata": {},
     "output_type": "execute_result"
    },
    {
     "data": {
      "image/png": "[encoded data removed]",
      "text/plain": [
       "<Figure size 1080x720 with 1 Axes>"
      ]
     },
     "metadata": {},
     "output_type": "display_data"
    }
   ],
   "source": [
    "sns.boxplot(data=[scores_m_4, scores_m_5])"
   ]
  },
  {
   "cell_type": "code",
   "execution_count": 151,
   "metadata": {},
   "outputs": [
    {
     "name": "stderr",
     "output_type": "stream",
     "text": [
      "/var/folders/bk/cxdpc18j5fsc5wy5447dkm740000gn/T/ipykernel_12866/2515464887.py:6: DeprecationWarning: scipy.sum is deprecated and will be removed in SciPy 2.0.0, use numpy.sum instead\n",
      "  ob_fn = lambda k: sum(eigs[-k:]) - k * delta\n"
     ]
    }
   ],
   "source": [
    "scores_m_3 = []\n",
    "for _ in range(500): \n",
    "    sample_mats = generate_synthetic_data(20, 3)\n",
    "\n",
    "    delta = get_delta(sample_mats[0])\n",
    "    ob1_bool = True\n",
    "\n",
    "    eta_init = np.random.uniform(0, 1, len(sample_mats))\n",
    "    eta_init = eta_init / np.sum(eta_init)\n",
    "\n",
    "    result = scipy.optimize.minimize(\n",
    "        objective,\n",
    "        eta_init,\n",
    "        method='SLSQP',\n",
    "        jac=derivative,\n",
    "        bounds=[(0, 1) for _ in range(len(sample_mats))],\n",
    "        constraints={'type': 'eq', 'fun': simplex_constraint},\n",
    "        options={\n",
    "            'maxiter': 10000,\n",
    "            'disp': False\n",
    "        }\n",
    "    )\n",
    "\n",
    "    score = scipy.linalg.eigh(matrix_lin_combo(result['x'], sample_mats), eigvals_only=True)[-1] - delta\n",
    "    if score > 0: \n",
    "        ob_value = result['fun']\n",
    "        scores_m_3.append(ob_value)\n",
    "    else: \n",
    "        scores_m_3.append(score)\n",
    "    \n"
   ]
  },
  {
   "cell_type": "code",
   "execution_count": 152,
   "metadata": {},
   "outputs": [
    {
     "name": "stderr",
     "output_type": "stream",
     "text": [
      "/var/folders/bk/cxdpc18j5fsc5wy5447dkm740000gn/T/ipykernel_12866/2515464887.py:6: DeprecationWarning: scipy.sum is deprecated and will be removed in SciPy 2.0.0, use numpy.sum instead\n",
      "  ob_fn = lambda k: sum(eigs[-k:]) - k * delta\n"
     ]
    }
   ],
   "source": [
    "scores_m_2 = []\n",
    "for _ in range(500): \n",
    "    sample_mats = generate_synthetic_data(20, 2)\n",
    "\n",
    "    delta = get_delta(sample_mats[0])\n",
    "    ob1_bool = True\n",
    "\n",
    "    eta_init = np.random.uniform(0, 1, len(sample_mats))\n",
    "    eta_init = eta_init / np.sum(eta_init)\n",
    "\n",
    "    result = scipy.optimize.minimize(\n",
    "        objective,\n",
    "        eta_init,\n",
    "        method='SLSQP',\n",
    "        jac=derivative,\n",
    "        bounds=[(0, 1) for _ in range(len(sample_mats))],\n",
    "        constraints={'type': 'eq', 'fun': simplex_constraint},\n",
    "        options={\n",
    "            'maxiter': 10000,\n",
    "            'disp': False\n",
    "        }\n",
    "    )\n",
    "\n",
    "    score = scipy.linalg.eigh(matrix_lin_combo(result['x'], sample_mats), eigvals_only=True)[-1] - delta\n",
    "    if score > 0: \n",
    "        ob_value = result['fun']\n",
    "        scores_m_2.append(ob_value)\n",
    "    else: \n",
    "        scores_m_2.append(score)"
   ]
  },
  {
   "cell_type": "code",
   "execution_count": 155,
   "metadata": {},
   "outputs": [],
   "source": [
    "score_dict = {\n",
    "    '2': scores_m_2,\n",
    "    '3': scores_m_3,\n",
    "    '4': scores_m_4,\n",
    "    '5': scores_m_5\n",
    "}"
   ]
  },
  {
   "cell_type": "code",
   "execution_count": 161,
   "metadata": {},
   "outputs": [
    {
     "data": {
      "image/png": "[encoded data removed]",
      "text/plain": [
       "<Figure size 1080x720 with 1 Axes>"
      ]
     },
     "metadata": {},
     "output_type": "display_data"
    }
   ],
   "source": [
    "sns.boxplot(data=pd.DataFrame(score_dict))\n",
    "plt.ylabel('Loss function value at optimum')\n",
    "plt.xlabel('Number of sample matrices')\n",
    "plt.title('Performance of eigenmatching on synthetic data, n=20, 500 runs')\n",
    "plt.savefig('figs/synthetic_data_n_20.png')"
   ]
  },
  {
   "cell_type": "code",
   "execution_count": 146,
   "metadata": {},
   "outputs": [
    {
     "data": {
      "text/plain": [
       "DescribeResult(nobs=198, minmax=(-0.8575696954285901, -4.580764050210462e-05), mean=-0.22107566170714202, variance=0.03136876920637914, skewness=-0.849080172343374, kurtosis=0.2135929912380763)"
      ]
     },
     "execution_count": 146,
     "metadata": {},
     "output_type": "execute_result"
    }
   ],
   "source": [
    "scipy.stats.describe(scores_m_2)"
   ]
  },
  {
   "cell_type": "code",
   "execution_count": 147,
   "metadata": {},
   "outputs": [
    {
     "data": {
      "text/plain": [
       "198"
      ]
     },
     "execution_count": 147,
     "metadata": {},
     "output_type": "execute_result"
    }
   ],
   "source": [
    "len(scores_m_2)"
   ]
  },
  {
   "cell_type": "code",
   "execution_count": 148,
   "metadata": {},
   "outputs": [
    {
     "data": {
      "text/plain": [
       "369"
      ]
     },
     "execution_count": 148,
     "metadata": {},
     "output_type": "execute_result"
    }
   ],
   "source": [
    "len(scores_m_3)"
   ]
  },
  {
   "cell_type": "code",
   "execution_count": null,
   "metadata": {},
   "outputs": [],
   "source": []
  }
 ],
 "metadata": {
  "kernelspec": {
   "display_name": "base",
   "language": "python",
   "name": "python3"
  },
  "language_info": {
   "codemirror_mode": {
    "name": "ipython",
    "version": 3
   },
   "file_extension": ".py",
   "mimetype": "text/x-python",
   "name": "python",
   "nbconvert_exporter": "python",
   "pygments_lexer": "ipython3",
   "version": "3.9.7"
  },
  "orig_nbformat": 4,
  "vscode": {
   "interpreter": {
    "hash": "3b2ae14f386af6fa933b0f4fa5274560fb816e2a75f021170df4c76512db8c47"
   }
  }
 },
 "nbformat": 4,
 "nbformat_minor": 2
}
