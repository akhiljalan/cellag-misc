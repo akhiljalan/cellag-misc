{
 "cells": [
  {
   "cell_type": "code",
   "execution_count": 4,
   "metadata": {},
   "outputs": [],
   "source": [
    "import numpy as np\n",
    "import matplotlib.pyplot as plt\n",
    "import seaborn as sns\n",
    "import pandas as pd\n",
    "import networkx as nx\n",
    "%matplotlib inline\n"
   ]
  },
  {
   "cell_type": "code",
   "execution_count": 40,
   "metadata": {},
   "outputs": [],
   "source": [
    "import cvxpy as cp"
   ]
  },
  {
   "cell_type": "code",
   "execution_count": 3,
   "metadata": {},
   "outputs": [],
   "source": [
    "plt.rcParams['figure.figsize'] = [15, 10]\n",
    "sns.set_style('whitegrid')\n",
    "plt.rcParams['font.size'] = 20.0\n",
    "plt.rcParams['xtick.labelsize'] = 20.0\n",
    "plt.rcParams['ytick.labelsize'] = 20.0\n",
    "import pickle"
   ]
  },
  {
   "attachments": {},
   "cell_type": "markdown",
   "metadata": {},
   "source": [
    "# Generate synthetic data"
   ]
  },
  {
   "cell_type": "code",
   "execution_count": 31,
   "metadata": {},
   "outputs": [],
   "source": [
    "n = 20\n",
    "ground_truth_asymm = np.random.uniform(0, 0.5, (n, n))\n",
    "ground_truth_mat = ground_truth_asymm + ground_truth_asymm.T"
   ]
  },
  {
   "cell_type": "code",
   "execution_count": 33,
   "metadata": {},
   "outputs": [],
   "source": [
    "def gen_sample_mat(ground_truth_mat):\n",
    "    '''\n",
    "    Generate a sample matrix from a ground truth matrix\n",
    "    inputs:\n",
    "        ground_truth_mat: A n by n matrix of probabilities\n",
    "    outputs:    \n",
    "        A: a n by n matrix whose entries are 1 \n",
    "        with probability ground_truth_mat[i, j] and 0 otherwise\n",
    "    '''\n",
    "    n = ground_truth_mat.shape[0]\n",
    "    A = np.zeros_like(ground_truth_mat)\n",
    "    for i in range(n):\n",
    "        for j in range(i + 1):\n",
    "            sample = np.random.binomial(1, ground_truth_mat[i, j])\n",
    "            A[i, j] = sample\n",
    "            A[j, i] = sample\n",
    "    return A"
   ]
  },
  {
   "cell_type": "code",
   "execution_count": 35,
   "metadata": {},
   "outputs": [],
   "source": [
    "sample_mats = [gen_sample_mat(ground_truth_mat) for _ in range(11)]\n",
    "\n",
    "scale = np.sum(sample_mats[0])\n",
    "for i in range(len(sample_mats)):\n",
    "    if i > 0:\n",
    "        s = np.sum(sample_mats[i])\n",
    "        rescale = scale / s \n",
    "        sample_mats[i] = rescale * sample_mats[i]"
   ]
  },
  {
   "cell_type": "code",
   "execution_count": 36,
   "metadata": {},
   "outputs": [
    {
     "name": "stdout",
     "output_type": "stream",
     "text": [
      "225.0\n",
      "224.99999999999994\n",
      "225.0\n",
      "225.0\n",
      "225.0\n",
      "225.0\n",
      "225.0\n",
      "225.00000000000006\n",
      "225.0\n",
      "225.0\n",
      "225.0\n"
     ]
    }
   ],
   "source": [
    "for i in range(11): \n",
    "    print(np.sum(sample_mats[i]))"
   ]
  },
  {
   "attachments": {},
   "cell_type": "markdown",
   "metadata": {},
   "source": [
    "Notice that the sum of the entries of each matrix is the same, and is near 0.5 * 400. "
   ]
  },
  {
   "cell_type": "markdown",
   "metadata": {},
   "source": [
    "## Define the convex program"
   ]
  },
  {
   "attachments": {},
   "cell_type": "markdown",
   "metadata": {},
   "source": [
    "For now, we will just set delta manually to be O(sqrt(degree)). Here, the degree is roughly 10, so we set delta to be sqrt(10)."
   ]
  },
  {
   "cell_type": "code",
   "execution_count": 48,
   "metadata": {},
   "outputs": [
    {
     "ename": "TypeError",
     "evalue": "'Variable' object does not support item assignment",
     "output_type": "error",
     "traceback": [
      "\u001b[0;31m---------------------------------------------------------------------------\u001b[0m",
      "\u001b[0;31mTypeError\u001b[0m                                 Traceback (most recent call last)",
      "\u001b[0;32m/var/folders/bk/cxdpc18j5fsc5wy5447dkm740000gn/T/ipykernel_13090/3489438171.py\u001b[0m in \u001b[0;36m<module>\u001b[0;34m\u001b[0m\n\u001b[1;32m     18\u001b[0m \u001b[0;32mfor\u001b[0m \u001b[0mj\u001b[0m \u001b[0;32min\u001b[0m \u001b[0mrange\u001b[0m\u001b[0;34m(\u001b[0m\u001b[0;36m1\u001b[0m\u001b[0;34m,\u001b[0m \u001b[0mn\u001b[0m \u001b[0;34m+\u001b[0m \u001b[0;36m1\u001b[0m\u001b[0;34m)\u001b[0m\u001b[0;34m:\u001b[0m\u001b[0;34m\u001b[0m\u001b[0;34m\u001b[0m\u001b[0m\n\u001b[1;32m     19\u001b[0m     \u001b[0mpartial_trace\u001b[0m \u001b[0;34m=\u001b[0m \u001b[0mcp\u001b[0m\u001b[0;34m.\u001b[0m\u001b[0matoms\u001b[0m\u001b[0;34m.\u001b[0m\u001b[0mlambda_sum_largest\u001b[0m\u001b[0;34m(\u001b[0m\u001b[0mY_diff\u001b[0m\u001b[0;34m,\u001b[0m \u001b[0mj\u001b[0m\u001b[0;34m)\u001b[0m\u001b[0;34m\u001b[0m\u001b[0;34m\u001b[0m\u001b[0m\n\u001b[0;32m---> 20\u001b[0;31m     \u001b[0mpartial_traces\u001b[0m\u001b[0;34m[\u001b[0m\u001b[0mj\u001b[0m\u001b[0;34m]\u001b[0m \u001b[0;34m=\u001b[0m \u001b[0mpartial_trace\u001b[0m\u001b[0;34m\u001b[0m\u001b[0;34m\u001b[0m\u001b[0m\n\u001b[0m\u001b[1;32m     21\u001b[0m \u001b[0;34m\u001b[0m\u001b[0m\n\u001b[1;32m     22\u001b[0m \u001b[0mmax_traces\u001b[0m \u001b[0;34m=\u001b[0m \u001b[0mcp\u001b[0m\u001b[0;34m.\u001b[0m\u001b[0matoms\u001b[0m\u001b[0;34m.\u001b[0m\u001b[0melementwise\u001b[0m\u001b[0;34m.\u001b[0m\u001b[0mmaximum\u001b[0m\u001b[0;34m(\u001b[0m\u001b[0mpartial_traces\u001b[0m\u001b[0;34m)\u001b[0m\u001b[0;34m\u001b[0m\u001b[0;34m\u001b[0m\u001b[0m\n",
      "\u001b[0;31mTypeError\u001b[0m: 'Variable' object does not support item assignment"
     ]
    }
   ],
   "source": [
    "m = len(sample_mats)\n",
    "n = sample_mats[0].shape[0]\n",
    "delta = np.sqrt(10.0)\n",
    "\n",
    "eta = cp.Variable(m, nonneg=True)\n",
    "# partial_traces = cp.Variable(n)\n",
    "\n",
    "# define the Y_diff matrix\n",
    "X_0 = eta[0] * sample_mats[0]\n",
    "X_arrs = []\n",
    "for i in range(1, len(sample_mats)): \n",
    "    X_arrs.append(eta[i] * (X_0 - sample_mats[i]))\n",
    "Y = X_0 + np.sum(X_arrs, axis=0)\n",
    "Y_diff = Y - delta * np.eye(n)\n",
    "\n",
    "\n",
    "partial_traces = []\n",
    "for j in range(1, n + 1): \n",
    "    partial_trace = cp.atoms.lambda_sum_largest(Y_diff, j)\n",
    "    partial_traces[j] = partial_trace\n",
    "\n",
    "max_traces = cp.atoms.elementwise.maximum(partial_traces)\n",
    "objective = cp.Minimize(max_traces)\n",
    "\n"
   ]
  },
  {
   "cell_type": "code",
   "execution_count": null,
   "metadata": {},
   "outputs": [],
   "source": []
  }
 ],
 "metadata": {
  "kernelspec": {
   "display_name": "base",
   "language": "python",
   "name": "python3"
  },
  "language_info": {
   "codemirror_mode": {
    "name": "ipython",
    "version": 3
   },
   "file_extension": ".py",
   "mimetype": "text/x-python",
   "name": "python",
   "nbconvert_exporter": "python",
   "pygments_lexer": "ipython3",
   "version": "3.9.7"
  },
  "orig_nbformat": 4,
  "vscode": {
   "interpreter": {
    "hash": "3b2ae14f386af6fa933b0f4fa5274560fb816e2a75f021170df4c76512db8c47"
   }
  }
 },
 "nbformat": 4,
 "nbformat_minor": 2
}
