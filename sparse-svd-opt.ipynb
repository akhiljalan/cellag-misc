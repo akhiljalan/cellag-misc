{
 "cells": [
  {
   "cell_type": "code",
   "execution_count": 60,
   "metadata": {},
   "outputs": [
    {
     "name": "stdout",
     "output_type": "stream",
     "text": [
      "The autoreload extension is already loaded. To reload it, use:\n",
      "  %reload_ext autoreload\n"
     ]
    }
   ],
   "source": [
    "import numpy as np\n",
    "import matplotlib.pyplot as plt\n",
    "import seaborn as sns\n",
    "import pandas as pd\n",
    "import networkx as nx\n",
    "import scipy\n",
    "import pickle\n",
    "%matplotlib inline\n",
    "%load_ext autoreload\n",
    "%autoreload 2\n"
   ]
  },
  {
   "cell_type": "code",
   "execution_count": 20,
   "metadata": {},
   "outputs": [],
   "source": [
    "import irlb_copy as irl "
   ]
  },
  {
   "attachments": {},
   "cell_type": "markdown",
   "metadata": {},
   "source": [
    "# import"
   ]
  },
  {
   "cell_type": "code",
   "execution_count": 61,
   "metadata": {},
   "outputs": [],
   "source": [
    "human_ppi_mat = scipy.sparse.load_npz('data/adj_matrix_sparse_restricted_9606.npz')\n",
    "max_degree =  np.max(human_ppi_mat)\n",
    "human_ppi_mat /= max_degree"
   ]
  },
  {
   "attachments": {},
   "cell_type": "markdown",
   "metadata": {},
   "source": [
    "### irlb test"
   ]
  },
  {
   "cell_type": "code",
   "execution_count": 10,
   "metadata": {},
   "outputs": [],
   "source": [
    "k = 100\n",
    "A = human_ppi_mat"
   ]
  },
  {
   "cell_type": "code",
   "execution_count": 22,
   "metadata": {},
   "outputs": [
    {
     "name": "stdout",
     "output_type": "stream",
     "text": [
      "CPU times: user 7min 7s, sys: 23.2 s, total: 7min 30s\n",
      "Wall time: 18.8 s\n"
     ]
    }
   ],
   "source": [
    "%%time\n",
    "\n",
    "svd_out = irl.irlb(A, k)"
   ]
  },
  {
   "cell_type": "code",
   "execution_count": 19,
   "metadata": {},
   "outputs": [
    {
     "name": "stdout",
     "output_type": "stream",
     "text": [
      "CPU times: user 2min 34s, sys: 8.41 s, total: 2min 42s\n",
      "Wall time: 7.06 s\n"
     ]
    }
   ],
   "source": [
    "%%time \n",
    "\n",
    "scipy_svd_out = scipy.sparse.linalg.svds(A, solver='arpack', k=k, return_singular_vectors=False)"
   ]
  },
  {
   "cell_type": "code",
   "execution_count": null,
   "metadata": {},
   "outputs": [],
   "source": [
    "%%timeit\n",
    "\n",
    "scipy_svd_out = scipy.sparse.linalg.svds(A, solver='arpack', k=k, return_singular_vectors=False)"
   ]
  },
  {
   "attachments": {},
   "cell_type": "markdown",
   "metadata": {},
   "source": [
    "# try sparseSVD package"
   ]
  },
  {
   "cell_type": "code",
   "execution_count": 24,
   "metadata": {},
   "outputs": [
    {
     "name": "stdout",
     "output_type": "stream",
     "text": [
      "Collecting cython\n",
      "  Downloading Cython-0.29.34-cp310-cp310-manylinux_2_17_x86_64.manylinux2014_x86_64.manylinux_2_24_x86_64.whl (1.9 MB)\n",
      "\u001b[2K     \u001b[90m━━━━━━━━━━━━━━━━━━━━━━━━━━━━━━━━━━━━━━━━\u001b[0m \u001b[32m1.9/1.9 MB\u001b[0m \u001b[31m10.5 MB/s\u001b[0m eta \u001b[36m0:00:00\u001b[0m00:01\u001b[0m00:01\u001b[0m\n",
      "\u001b[?25hInstalling collected packages: cython\n",
      "Successfully installed cython-0.29.34\n"
     ]
    }
   ],
   "source": [
    "!pip install cython"
   ]
  },
  {
   "cell_type": "code",
   "execution_count": 45,
   "metadata": {},
   "outputs": [],
   "source": [
    "# !pip install sparsesvd"
   ]
  },
  {
   "cell_type": "code",
   "execution_count": 23,
   "metadata": {},
   "outputs": [
    {
     "ename": "ModuleNotFoundError",
     "evalue": "No module named 'sparsesvd'",
     "output_type": "error",
     "traceback": [
      "\u001b[0;31m---------------------------------------------------------------------------\u001b[0m",
      "\u001b[0;31mModuleNotFoundError\u001b[0m                       Traceback (most recent call last)",
      "Cell \u001b[0;32mIn[23], line 1\u001b[0m\n\u001b[0;32m----> 1\u001b[0m \u001b[39mimport\u001b[39;00m \u001b[39msparsesvd\u001b[39;00m\n",
      "\u001b[0;31mModuleNotFoundError\u001b[0m: No module named 'sparsesvd'"
     ]
    }
   ],
   "source": [
    "import sparsesvd"
   ]
  },
  {
   "attachments": {},
   "cell_type": "markdown",
   "metadata": {},
   "source": [
    "# Randomized SVD"
   ]
  },
  {
   "cell_type": "code",
   "execution_count": 30,
   "metadata": {},
   "outputs": [
    {
     "data": {
      "text/plain": [
       "scipy.sparse._csr.csr_matrix"
      ]
     },
     "execution_count": 30,
     "metadata": {},
     "output_type": "execute_result"
    }
   ],
   "source": [
    "type(human_ppi_mat)"
   ]
  },
  {
   "cell_type": "code",
   "execution_count": 34,
   "metadata": {},
   "outputs": [
    {
     "data": {
      "text/plain": [
       "5.963604"
      ]
     },
     "execution_count": 34,
     "metadata": {},
     "output_type": "execute_result"
    }
   ],
   "source": [
    "human_ppi_mat.nnz / 1e6"
   ]
  },
  {
   "attachments": {},
   "cell_type": "markdown",
   "metadata": {},
   "source": [
    "# Facebook randomized SVD"
   ]
  },
  {
   "cell_type": "code",
   "execution_count": 35,
   "metadata": {},
   "outputs": [
    {
     "name": "stdout",
     "output_type": "stream",
     "text": [
      "Collecting fbpca\n",
      "  Downloading fbpca-1.0.tar.gz (11 kB)\n",
      "  Preparing metadata (setup.py) ... \u001b[?25ldone\n",
      "\u001b[?25hBuilding wheels for collected packages: fbpca\n",
      "  Building wheel for fbpca (setup.py) ... \u001b[?25ldone\n",
      "\u001b[?25h  Created wheel for fbpca: filename=fbpca-1.0-py3-none-any.whl size=11373 sha256=56e702c295fe91a6c4fafd6f9b577459d4bd74623f85c14a67b9c103253e5e8e\n",
      "  Stored in directory: /home/akhil/.cache/pip/wheels/80/d9/aa/106e3ec6ae78430182dfdefe59fe52138364236e7134304357\n",
      "Successfully built fbpca\n",
      "Installing collected packages: fbpca\n",
      "Successfully installed fbpca-1.0\n"
     ]
    }
   ],
   "source": [
    "!pip install fbpca"
   ]
  },
  {
   "cell_type": "code",
   "execution_count": 62,
   "metadata": {},
   "outputs": [],
   "source": [
    "import fbpca"
   ]
  },
  {
   "cell_type": "code",
   "execution_count": 44,
   "metadata": {},
   "outputs": [
    {
     "name": "stdout",
     "output_type": "stream",
     "text": [
      "3 s ± 26.8 ms per loop (mean ± std. dev. of 7 runs, 1 loop each)\n"
     ]
    }
   ],
   "source": [
    "%%timeit\n",
    "U, S, Va = fbpca.pca(human_ppi_mat, k=k)"
   ]
  },
  {
   "cell_type": "code",
   "execution_count": 46,
   "metadata": {},
   "outputs": [
    {
     "name": "stdout",
     "output_type": "stream",
     "text": [
      "7.08 s ± 44.1 ms per loop (mean ± std. dev. of 7 runs, 1 loop each)\n"
     ]
    }
   ],
   "source": [
    "%%timeit\n",
    "\n",
    "scipy_svd_out = scipy.sparse.linalg.svds(A, solver='arpack', k=k, return_singular_vectors=False)"
   ]
  },
  {
   "cell_type": "code",
   "execution_count": 63,
   "metadata": {},
   "outputs": [
    {
     "name": "stdout",
     "output_type": "stream",
     "text": [
      "CPU times: user 20.5 s, sys: 1.04 s, total: 21.5 s\n",
      "Wall time: 3.18 s\n"
     ]
    },
    {
     "data": {
      "text/plain": [
       "(array([254.44138005, 175.52968706, 129.4738252 , 122.16332671,\n",
       "        105.86656611,  96.21514265,  94.10084978,  90.3070429 ,\n",
       "         83.16983609,  81.68251139,  75.39113856,  72.44835093,\n",
       "         68.42526586,  66.56185454,  63.58826214,  60.99717434,\n",
       "         59.5244414 ,  57.46697226,  54.81982983,  51.6274294 ,\n",
       "         51.17220314,  50.57527678,  49.40931352,  49.31549597,\n",
       "         48.46786304,  46.45787358,  46.24026798,  45.63916978,\n",
       "         45.52522629,  44.50203642,  43.63930437,  42.91522996,\n",
       "         41.94492949,  40.94553433,  40.23212097,  39.91904084,\n",
       "         39.40793748,  39.33828237,  38.94198342,  37.7988297 ,\n",
       "         37.48181052,  36.92587924,  36.22081046,  36.11744284,\n",
       "         35.64122072,  34.97093409,  34.77924893,  34.73225039,\n",
       "         33.72502205,  33.55770923,  33.09956167,  32.84650298,\n",
       "         32.73554599,  31.93568406,  31.68200548,  31.49443982,\n",
       "         31.40429903,  30.7778161 ,  30.65637574,  30.00889106,\n",
       "         29.92018014,  29.36049183,  29.10228617,  28.87299519,\n",
       "        -28.6856925 ,  28.24343173,  28.16497943,  27.6100707 ,\n",
       "         27.12938981,  26.84955745,  26.70110434,  26.25934363,\n",
       "         26.0304491 ,  25.71821182,  25.58706961,  25.14636781,\n",
       "         24.72552811,  24.07325241,  23.8920591 ,  23.58779954,\n",
       "        -23.55803504,  22.72442759,  22.62887997,  21.76628596,\n",
       "         21.12691938, -20.64538884,  20.15776962,  19.5989332 ,\n",
       "         18.94921406,  18.52073584,  17.97570353,  15.88539271,\n",
       "        -14.98776307,  14.84250938,  13.2404552 ,  10.98488975,\n",
       "         -9.36774478,  -7.22830711,   7.19808421,  -4.80545143]),\n",
       " array([[-0.00562902, -0.00328446,  0.00199348, ...,  0.00828504,\n",
       "         -0.01073573,  0.00683399],\n",
       "        [-0.01114583,  0.01352275,  0.01094806, ..., -0.01125092,\n",
       "          0.00639828,  0.00954098],\n",
       "        [-0.00187674,  0.00138343,  0.0007887 , ..., -0.00730082,\n",
       "         -0.00659868,  0.00066895],\n",
       "        ...,\n",
       "        [-0.00155857, -0.00080838, -0.00184012, ...,  0.00141079,\n",
       "          0.00210701, -0.00243292],\n",
       "        [-0.00196403, -0.00077777, -0.00268447, ...,  0.00310628,\n",
       "          0.00035791, -0.00239928],\n",
       "        [-0.00432787, -0.00118036, -0.0037356 , ..., -0.01910919,\n",
       "         -0.00487152, -0.00316244]]))"
      ]
     },
     "execution_count": 63,
     "metadata": {},
     "output_type": "execute_result"
    }
   ],
   "source": [
    "%%time\n",
    "\n",
    "# using self-adjointness\n",
    "fbpca.eigens(A, k=k)"
   ]
  },
  {
   "cell_type": "code",
   "execution_count": 64,
   "metadata": {},
   "outputs": [
    {
     "name": "stdout",
     "output_type": "stream",
     "text": [
      "CPU times: user 40.1 s, sys: 1.68 s, total: 41.8 s\n",
      "Wall time: 5.35 s\n"
     ]
    },
    {
     "data": {
      "text/plain": [
       "(array([254.44138008, 175.52968778, 129.47383594, 122.16335929,\n",
       "        105.86666657,  96.21529262,  94.1009888 ,  90.30722477,\n",
       "         83.17067117,  81.68316981,  75.3927122 ,  72.4497942 ,\n",
       "         68.42870155,  66.56489016,  63.59520225,  61.0048704 ,\n",
       "         59.53058496,  57.48265082,  54.84214993,  51.65510296,\n",
       "         51.22361349,  50.61475549,  49.46949849,  49.35445714,\n",
       "         48.50391778,  46.51603031,  46.28164243,  45.71780365,\n",
       "         45.61354768,  44.5856923 ,  43.7347883 ,  43.07018992,\n",
       "         42.09876439,  41.17073178,  40.44434956,  40.04924481,\n",
       "         39.65766084,  39.49144641,  39.28652314,  38.18536173,\n",
       "         37.92001354,  37.2502907 ,  36.59259904,  36.44631735,\n",
       "         36.06294264,  35.40717778,  35.37037883,  35.20131517,\n",
       "         34.45413614,  34.22102341,  33.81365476,  33.58584577,\n",
       "         33.48219212, -33.16250738,  32.84799921,  32.79053701,\n",
       "         32.61703144,  32.0670668 ,  31.94663147,  31.57713945,\n",
       "         31.44791458,  31.08193105,  30.87205495,  30.65818244,\n",
       "        -30.42340868,  30.24453901,  29.80105793,  29.57785353,\n",
       "         29.26893768,  29.10728574,  28.93865548,  28.78762518,\n",
       "         28.11808827,  27.88818767,  27.81284385,  27.5565553 ,\n",
       "         27.32685488,  27.05202215,  26.82883455,  26.60000997,\n",
       "        -26.45007202,  26.4452399 ,  26.21267763,  26.05231221,\n",
       "         25.65145001,  25.44024459,  25.23159079,  25.14484718,\n",
       "        -25.07407591,  24.5405379 ,  24.4553636 ,  24.04459416,\n",
       "         23.66513761,  22.87484435,  22.07312402, -21.53092397,\n",
       "         21.03607615, -20.94427238,  18.04005638, -16.58724833]),\n",
       " array([[-0.00562895, -0.00328409,  0.0019936 , ..., -0.00329529,\n",
       "          0.00651278, -0.00184899],\n",
       "        [-0.01114569,  0.01352193,  0.01094782, ..., -0.00633402,\n",
       "         -0.00630159,  0.00178522],\n",
       "        [-0.00187667,  0.00138332,  0.00078919, ..., -0.00487325,\n",
       "          0.0026206 , -0.00029097],\n",
       "        ...,\n",
       "        [-0.00155857, -0.00080808, -0.00183971, ...,  0.00133626,\n",
       "          0.00479667, -0.00065588],\n",
       "        [-0.00196401, -0.00077735, -0.00268399, ...,  0.00152486,\n",
       "          0.00630359, -0.00132851],\n",
       "        [-0.00432792, -0.0011811 , -0.00373922, ..., -0.01309987,\n",
       "         -0.00432514,  0.00458187]]))"
      ]
     },
     "execution_count": 64,
     "metadata": {},
     "output_type": "execute_result"
    }
   ],
   "source": [
    "%%time\n",
    "\n",
    "fbpca.eigens(A, k=k, n_iter=10)"
   ]
  },
  {
   "cell_type": "code",
   "execution_count": 65,
   "metadata": {},
   "outputs": [
    {
     "name": "stdout",
     "output_type": "stream",
     "text": [
      "CPU times: user 1min 47s, sys: 5.97 s, total: 1min 53s\n",
      "Wall time: 10.4 s\n"
     ]
    }
   ],
   "source": [
    "%%time\n",
    "U, S, Va = fbpca.pca(human_ppi_mat, k=k, n_iter=10)"
   ]
  },
  {
   "cell_type": "code",
   "execution_count": 66,
   "metadata": {},
   "outputs": [
    {
     "name": "stdout",
     "output_type": "stream",
     "text": [
      "CPU times: user 57.5 s, sys: 3 s, total: 1min\n",
      "Wall time: 5.59 s\n"
     ]
    }
   ],
   "source": [
    "%%time\n",
    "U, S, Va = fbpca.pca(human_ppi_mat, k=k, n_iter=5)"
   ]
  },
  {
   "cell_type": "code",
   "execution_count": 67,
   "metadata": {},
   "outputs": [
    {
     "data": {
      "text/plain": [
       "array([189.04030035, 175.38754131, 129.35402059, 116.48476077,\n",
       "       105.65116348,  95.87376826,  94.0839966 ,  90.2786064 ,\n",
       "        82.92988385,  80.87816565,  75.19373812,  70.71474439,\n",
       "        68.0349467 ,  66.56116928,  63.39485531,  60.46248975,\n",
       "        57.75152559,  56.36220383,  54.83268806,  51.65364375,\n",
       "        50.72656542,  50.28605703,  49.45190722,  49.25483225,\n",
       "        48.4931358 ,  46.30294217,  46.25556396,  45.71426767,\n",
       "        45.1236646 ,  44.34684542,  43.49146869,  42.61054901,\n",
       "        42.05030622,  41.07068658,  40.40089097,  39.79219451,\n",
       "        39.64741807,  39.45485639,  38.64221254,  38.09373819,\n",
       "        37.89731758,  37.23028783,  36.56531163,  36.43730205,\n",
       "        35.65720142,  35.40117659,  35.36984647,  35.20155737,\n",
       "        34.45463322,  34.1496828 ,  33.80546557,  33.53527839,\n",
       "        33.44686943,  32.90479573,  32.84867571,  32.64836857,\n",
       "        32.2628024 ,  32.05089201,  31.58429687,  31.55917556,\n",
       "        31.462519  ,  31.05900664,  30.8515358 ,  30.77201385,\n",
       "        30.37353089,  30.08993768,  29.88115725,  29.58495577,\n",
       "        29.21577134,  29.10993714,  28.84622382,  28.77884239,\n",
       "        28.15362019,  27.99991999,  27.91578859,  27.7090277 ,\n",
       "        27.52334247,  27.33164516,  27.23106269,  27.10318006,\n",
       "        26.88075756,  26.74579389,  26.70769659,  26.51570812,\n",
       "        26.41597017,  26.25220007,  26.20345542,  26.02794881,\n",
       "        25.68983755,  25.63937665,  25.47496712,  25.33011053,\n",
       "        25.18881155,  25.00975145,  24.86480081,  24.52506096,\n",
       "        24.26494471,  24.21676219,  24.10510665,  23.79878188])"
      ]
     },
     "execution_count": 67,
     "metadata": {},
     "output_type": "execute_result"
    }
   ],
   "source": [
    "S"
   ]
  },
  {
   "cell_type": "code",
   "execution_count": 68,
   "metadata": {},
   "outputs": [],
   "source": [
    "scipy_svd_out = scipy.sparse.linalg.svds(A, solver='arpack', k=k, return_singular_vectors=False)"
   ]
  },
  {
   "cell_type": "code",
   "execution_count": 69,
   "metadata": {},
   "outputs": [
    {
     "data": {
      "text/plain": [
       "array([ 24.82380048,  24.94248996,  25.06465903,  25.30332024,\n",
       "        25.46286377,  25.64148046,  25.68480094,  25.78682425,\n",
       "        25.96839036,  26.10107677,  26.16718758,  26.20741039,\n",
       "        26.37594333,  26.54437445,  26.63244878,  26.74080803,\n",
       "        26.86538684,  26.88940607,  27.09237265,  27.32488849,\n",
       "        27.38213667,  27.45131747,  27.51857256,  27.94755133,\n",
       "        28.00004674,  28.07997408,  28.14324868,  28.50817943,\n",
       "        28.98836392,  29.05177623,  29.23458225,  29.35239713,\n",
       "        29.67544196,  29.93497643,  30.29245639,  30.69834796,\n",
       "        30.90125401,  30.9794564 ,  31.12259679,  31.4800668 ,\n",
       "        31.60818226,  31.9866077 ,  32.08457614,  32.65564236,\n",
       "        32.80851804,  32.86239015,  33.23318975,  33.49424284,\n",
       "        33.60496691,  33.82710805,  34.22966856,  34.46201617,\n",
       "        35.20883564,  35.37723522,  35.40875564,  36.06565892,\n",
       "        36.45106131,  36.59421137,  37.25350408,  37.92116618,\n",
       "        38.18660569,  39.28670052,  39.49196675,  39.65804889,\n",
       "        40.04957368,  40.44477815,  41.17094676,  42.0989272 ,\n",
       "        43.07024536,  43.73483965,  44.58574671,  45.61356371,\n",
       "        45.71783467,  46.28166063,  46.51605899,  48.50392235,\n",
       "        49.35446244,  49.46950631,  50.61475867,  51.22361607,\n",
       "        51.65510554,  54.84215069,  57.48265112,  59.5305851 ,\n",
       "        61.00487046,  63.5952023 ,  66.56489016,  68.42870156,\n",
       "        72.4497942 ,  75.3927122 ,  81.68316981,  83.17067117,\n",
       "        90.30722477,  94.1009888 ,  96.21529262, 105.86666657,\n",
       "       122.16335929, 129.47383594, 175.52968778, 254.44138008])"
      ]
     },
     "execution_count": 69,
     "metadata": {},
     "output_type": "execute_result"
    }
   ],
   "source": [
    "scipy_svd_out"
   ]
  },
  {
   "cell_type": "code",
   "execution_count": null,
   "metadata": {},
   "outputs": [],
   "source": []
  },
  {
   "attachments": {},
   "cell_type": "markdown",
   "metadata": {},
   "source": [
    "## performance of randomized SVD versus LAPACK"
   ]
  },
  {
   "cell_type": "markdown",
   "metadata": {},
   "source": []
  },
  {
   "cell_type": "markdown",
   "metadata": {},
   "source": []
  },
  {
   "cell_type": "code",
   "execution_count": 59,
   "metadata": {},
   "outputs": [
    {
     "data": {
      "image/png": "[encoded data removed]",
      "text/plain": [
       "<Figure size 640x480 with 1 Axes>"
      ]
     },
     "metadata": {},
     "output_type": "display_data"
    }
   ],
   "source": [
    "plt.plot(np.array(sorted(scipy_svd_out, reverse=True)) - np.abs(eigenvals[0]))\n",
    "plt.yscale('log')"
   ]
  },
  {
   "cell_type": "code",
   "execution_count": 47,
   "metadata": {},
   "outputs": [
    {
     "data": {
      "text/plain": [
       "[<matplotlib.lines.Line2D at 0x7ff7741e7c40>]"
      ]
     },
     "execution_count": 47,
     "metadata": {},
     "output_type": "execute_result"
    },
    {
     "data": {
      "image/png": "[encoded data removed]",
      "text/plain": [
       "<Figure size 640x480 with 1 Axes>"
      ]
     },
     "metadata": {},
     "output_type": "display_data"
    }
   ],
   "source": [
    "plt.plot(np.array(sorted(scipy_svd_out, reverse=True)) - S)"
   ]
  }
 ],
 "metadata": {
  "kernelspec": {
   "display_name": "py3-akhil",
   "language": "python",
   "name": "python3"
  },
  "language_info": {
   "codemirror_mode": {
    "name": "ipython",
    "version": 3
   },
   "file_extension": ".py",
   "mimetype": "text/x-python",
   "name": "python",
   "nbconvert_exporter": "python",
   "pygments_lexer": "ipython3",
   "version": "3.10.9"
  },
  "orig_nbformat": 4
 },
 "nbformat": 4,
 "nbformat_minor": 2
}
