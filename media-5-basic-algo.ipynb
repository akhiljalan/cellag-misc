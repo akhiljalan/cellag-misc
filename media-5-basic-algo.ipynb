{
 "cells": [
  {
   "cell_type": "code",
   "execution_count": 1,
   "metadata": {},
   "outputs": [],
   "source": [
    "import numpy as np\n",
    "import matplotlib.pyplot as plt\n",
    "import seaborn as sns\n",
    "import pandas as pd\n",
    "import networkx as nx\n",
    "%matplotlib inline\n"
   ]
  },
  {
   "cell_type": "code",
   "execution_count": 2,
   "metadata": {},
   "outputs": [],
   "source": [
    "plt.rcParams['figure.figsize'] = [15, 10]\n",
    "sns.set_style('whitegrid')\n",
    "plt.rcParams['font.size'] = 20.0\n",
    "plt.rcParams['xtick.labelsize'] = 20.0\n",
    "plt.rcParams['ytick.labelsize'] = 20.0\n",
    "import pickle"
   ]
  },
  {
   "cell_type": "code",
   "execution_count": 26,
   "metadata": {},
   "outputs": [
    {
     "name": "stdout",
     "output_type": "stream",
     "text": [
      "The autoreload extension is already loaded. To reload it, use:\n",
      "  %reload_ext autoreload\n"
     ]
    }
   ],
   "source": [
    "%load_ext autoreload\n",
    "%autoreload 2\n"
   ]
  },
  {
   "cell_type": "code",
   "execution_count": 27,
   "metadata": {},
   "outputs": [],
   "source": [
    "import graph_learning_utils as gl"
   ]
  },
  {
   "attachments": {},
   "cell_type": "markdown",
   "metadata": {},
   "source": [
    "# Rewrite objective, no derivative"
   ]
  },
  {
   "attachments": {},
   "cell_type": "markdown",
   "metadata": {},
   "source": [
    "## generate data and include validation matrix"
   ]
  },
  {
   "cell_type": "code",
   "execution_count": 8,
   "metadata": {},
   "outputs": [],
   "source": [
    "n = 20\n",
    "ground_truth_asymm = np.random.uniform(0, 0.5, (n, n))\n",
    "ground_truth_mat = ground_truth_asymm + ground_truth_asymm.T\n"
   ]
  },
  {
   "cell_type": "code",
   "execution_count": 11,
   "metadata": {},
   "outputs": [],
   "source": [
    "m = 10\n",
    "sample_mats = [gen_sample_mat(ground_truth_mat) for _ in range(m)]"
   ]
  },
  {
   "cell_type": "code",
   "execution_count": 12,
   "metadata": {},
   "outputs": [],
   "source": [
    "sample_mats = [ground_truth_mat] + sample_mats"
   ]
  },
  {
   "cell_type": "code",
   "execution_count": 13,
   "metadata": {},
   "outputs": [
    {
     "data": {
      "text/plain": [
       "11"
      ]
     },
     "execution_count": 13,
     "metadata": {},
     "output_type": "execute_result"
    }
   ],
   "source": [
    "len(sample_mats)"
   ]
  },
  {
   "cell_type": "code",
   "execution_count": 20,
   "metadata": {},
   "outputs": [],
   "source": [
    "objective = lambda eta_arr: objective_with_params(eta_arr, ground_truth_mat, sample_mats, 0.00, verbose=False)\n",
    "eta_init = generate_random_eta(len(sample_mats))\n",
    "\n",
    "result = scipy.optimize.minimize(\n",
    "    objective,\n",
    "    eta_init,\n",
    "    method='SLSQP',\n",
    "    jac=None,\n",
    "    bounds=[(0, 1) for _ in range(len(sample_mats))],\n",
    "    constraints={'type': 'eq', 'fun': simplex_constraint},\n",
    "    options={\n",
    "        'maxiter': 10000,\n",
    "        'disp': False\n",
    "    }\n",
    ")"
   ]
  },
  {
   "cell_type": "code",
   "execution_count": 19,
   "metadata": {},
   "outputs": [
    {
     "data": {
      "text/plain": [
       "     fun: 2.8299731788466823e-13\n",
       "     jac: array([-16.91944445,  16.57588705,  18.68839856,  18.24605905,\n",
       "        19.01201065,  16.50272445,  18.95990419,  15.38300123,\n",
       "        19.23569889,  18.41013059,  18.77537233])\n",
       " message: 'Optimization terminated successfully'\n",
       "    nfev: 37\n",
       "     nit: 3\n",
       "    njev: 3\n",
       "  status: 0\n",
       " success: True\n",
       "       x: array([1.00000000e+00, 6.67521594e-15, 4.26048086e-15, 2.91433544e-15,\n",
       "       0.00000000e+00, 0.00000000e+00, 6.28663788e-15, 0.00000000e+00,\n",
       "       0.00000000e+00, 9.96425165e-15, 9.43689571e-16])"
      ]
     },
     "execution_count": 19,
     "metadata": {},
     "output_type": "execute_result"
    }
   ],
   "source": [
    "result"
   ]
  },
  {
   "attachments": {},
   "cell_type": "markdown",
   "metadata": {},
   "source": [
    "Good! Now we actually get the correct answer. Now let's try the G1/G2 thing."
   ]
  },
  {
   "attachments": {},
   "cell_type": "markdown",
   "metadata": {},
   "source": [
    "## g1/g2 idea"
   ]
  },
  {
   "cell_type": "code",
   "execution_count": 57,
   "metadata": {},
   "outputs": [],
   "source": [
    "eigenbasis_matrix = scipy.stats.ortho_group.rvs(20)\n",
    "mat1 = eigenbasis_matrix @ np.diag([1.0] + [0.1 for _ in range(19)]) @ eigenbasis_matrix.T\n",
    "mat2 = eigenbasis_matrix @ np.diag([0.1, 1.0] + [0.1 for _ in range(18)]) @ eigenbasis_matrix.T\n",
    "mat = 0.5 * mat1 + 0.5 * mat2"
   ]
  },
  {
   "cell_type": "code",
   "execution_count": 58,
   "metadata": {},
   "outputs": [
    {
     "data": {
      "text/plain": [
       "array([0.1 , 0.1 , 0.1 , 0.1 , 0.1 , 0.1 , 0.1 , 0.1 , 0.1 , 0.1 , 0.1 ,\n",
       "       0.1 , 0.1 , 0.1 , 0.1 , 0.1 , 0.1 , 0.1 , 0.55, 0.55])"
      ]
     },
     "execution_count": 58,
     "metadata": {},
     "output_type": "execute_result"
    }
   ],
   "source": [
    "scipy.linalg.eigh(mat, eigvals_only=True)"
   ]
  },
  {
   "attachments": {},
   "cell_type": "markdown",
   "metadata": {},
   "source": [
    "### feed both mat1, mat2 as sample matrices"
   ]
  },
  {
   "cell_type": "code",
   "execution_count": null,
   "metadata": {},
   "outputs": [],
   "source": [
    "sample_mats = [mat1, mat2]\n",
    "eta_init = gl.generate_random_eta(len(sample_mats))\n",
    "\n",
    "result = gl.run_scipy_minimize(\n",
    "    eta_init, sample_mats, mat, delta=0.0)"
   ]
  },
  {
   "cell_type": "code",
   "execution_count": 10,
   "metadata": {},
   "outputs": [
    {
     "data": {
      "text/plain": [
       "     fun: 2.7652180549008792e-08\n",
       "     jac: array([-0.10000001, -1.00000001])\n",
       " message: 'Optimization terminated successfully'\n",
       "    nfev: 30\n",
       "     nit: 6\n",
       "    njev: 6\n",
       "  status: 0\n",
       " success: True\n",
       "       x: array([0.49999997, 0.50000003])"
      ]
     },
     "execution_count": 10,
     "metadata": {},
     "output_type": "execute_result"
    }
   ],
   "source": [
    "result"
   ]
  },
  {
   "attachments": {},
   "cell_type": "markdown",
   "metadata": {},
   "source": [
    "### feed imbalanced samples but still mat1, mat2"
   ]
  },
  {
   "cell_type": "code",
   "execution_count": 33,
   "metadata": {},
   "outputs": [],
   "source": [
    "sample_mats = [0.4 * mat1, 0.4 * mat1, mat2]\n",
    "eta_init = gl.generate_random_eta(len(sample_mats))\n",
    "\n",
    "objective = lambda eta_arr: objective_with_params(eta_arr, mat, sample_mats, 0.00, verbose=False)\n",
    "\n",
    "result = scipy.optimize.minimize(\n",
    "    objective,\n",
    "    eta_init,\n",
    "    method='SLSQP',\n",
    "    jac=None,\n",
    "    bounds=[(0, 1) for _ in range(len(sample_mats))],\n",
    "    # constraints={'type': 'eq', 'fun': simplex_constraint},\n",
    "    options={\n",
    "        'maxiter': 10000,\n",
    "        'disp': False\n",
    "    }\n",
    ")"
   ]
  },
  {
   "cell_type": "code",
   "execution_count": 34,
   "metadata": {},
   "outputs": [
    {
     "data": {
      "text/plain": [
       "     fun: 4.829025313912432e-06\n",
       "     jac: array([0.36, 0.36, 2.7 ])\n",
       " message: 'Optimization terminated successfully'\n",
       "    nfev: 89\n",
       "     nit: 16\n",
       "    njev: 16\n",
       "  status: 0\n",
       " success: True\n",
       "       x: array([0.5150449 , 0.73494956, 0.50000129])"
      ]
     },
     "execution_count": 34,
     "metadata": {},
     "output_type": "execute_result"
    }
   ],
   "source": [
    "result"
   ]
  },
  {
   "cell_type": "code",
   "execution_count": 35,
   "metadata": {},
   "outputs": [
    {
     "data": {
      "text/plain": [
       "array([[-6.78820248e-08, -4.29936120e-08, -2.49047208e-08,\n",
       "         5.09630475e-08, -3.91332124e-08, -6.44322122e-08,\n",
       "         8.83739366e-08, -4.96923956e-08,  1.16650303e-08,\n",
       "        -7.41901264e-08,  2.67643965e-08,  9.07758937e-09,\n",
       "        -6.03572462e-08, -3.45987898e-08, -2.51671211e-08,\n",
       "         6.51933859e-09, -8.23713208e-09,  1.93058463e-09,\n",
       "        -3.96718532e-08,  5.78303372e-08],\n",
       "       [-4.29936120e-08, -3.54082657e-08, -1.53090045e-08,\n",
       "        -3.02605372e-08,  6.65391429e-08,  3.14982918e-08,\n",
       "        -1.54015849e-07,  8.03318736e-08, -1.75668262e-08,\n",
       "         9.49597175e-08, -6.24491268e-08,  3.92620190e-08,\n",
       "         6.47482832e-09,  8.66055452e-09,  2.85117811e-08,\n",
       "        -4.24971497e-08, -5.37707028e-08,  4.99594546e-08,\n",
       "         5.11867649e-08, -6.89927378e-08],\n",
       "       [-2.49047208e-08, -1.53090045e-08, -2.71368192e-07,\n",
       "         1.50208510e-07,  3.59235897e-08, -2.13521059e-07,\n",
       "        -9.42304343e-08,  3.10805353e-08, -2.78747519e-09,\n",
       "        -4.08386035e-08, -8.37471943e-08,  1.82733137e-07,\n",
       "        -2.80469923e-07, -1.43487078e-07, -2.67813780e-08,\n",
       "        -1.15713094e-07, -2.29194229e-07,  1.84212115e-07,\n",
       "        -2.04099094e-08,  4.93943345e-08],\n",
       "       [ 5.09630475e-08, -3.02605372e-08,  1.50208510e-07,\n",
       "        -1.87518381e-07, -7.68335959e-08,  1.43057905e-07,\n",
       "         1.86467625e-07, -8.31947067e-08,  1.50723532e-08,\n",
       "        -3.79608146e-08,  1.11052804e-07, -1.71067299e-07,\n",
       "         2.13546863e-07,  1.05321437e-07, -9.65672247e-11,\n",
       "         1.21278715e-07,  2.17886641e-07, -1.80075661e-07,\n",
       "        -2.17104192e-08,  1.22288990e-08],\n",
       "       [-3.91332124e-08,  6.65391429e-08,  3.59235897e-08,\n",
       "        -7.68335959e-08, -3.14958532e-08,  9.67754905e-08,\n",
       "        -1.38713272e-07,  7.76597676e-08, -1.81605988e-08,\n",
       "         1.14597775e-07, -4.28624699e-08, -1.12768780e-08,\n",
       "         8.94125481e-08,  5.15212363e-08,  3.86747438e-08,\n",
       "        -1.19124982e-08,  9.25401248e-09, -1.53661691e-10,\n",
       "         6.13011762e-08, -8.90564275e-08],\n",
       "       [-6.44322122e-08,  3.14982918e-08, -2.13521059e-07,\n",
       "         1.43057905e-07,  9.67754905e-08, -3.05953281e-07,\n",
       "        -2.36447533e-07,  1.03031825e-07, -1.80276005e-08,\n",
       "         3.46544369e-08, -1.47024093e-07,  2.38545504e-07,\n",
       "        -3.09541703e-07, -1.53824919e-07, -5.90374024e-09,\n",
       "        -1.66009937e-07, -3.03035341e-07,  2.49278136e-07,\n",
       "         2.04812152e-08, -3.02444751e-09],\n",
       "       [ 8.83739366e-08, -1.54015849e-07, -9.42304343e-08,\n",
       "         1.86467625e-07, -1.38713272e-07, -2.36447533e-07,\n",
       "         2.20036364e-07, -1.76571404e-07,  4.15824578e-08,\n",
       "        -2.66197200e-07,  9.31213130e-08,  3.78235050e-08,\n",
       "        -2.23871259e-07, -1.27819572e-07, -9.06827235e-08,\n",
       "         1.98658598e-08, -3.61946742e-08,  1.23397372e-08,\n",
       "        -1.42302031e-07,  2.08016603e-07],\n",
       "       [-4.96923956e-08,  8.03318736e-08,  3.10805353e-08,\n",
       "        -8.31947067e-08,  7.76597676e-08,  1.03031825e-07,\n",
       "        -1.76571404e-07,  4.46012469e-09, -2.24278240e-08,\n",
       "         1.37307894e-07, -5.85036114e-08, -6.12786231e-10,\n",
       "         8.91882812e-08,  5.27002034e-08,  4.54007937e-08,\n",
       "        -2.29313117e-08, -5.21635176e-09,  1.31075905e-08,\n",
       "         7.35529992e-08, -1.05430492e-07],\n",
       "       [ 1.16650303e-08, -1.75668262e-08, -2.78747519e-09,\n",
       "         1.50723532e-08, -1.81605988e-08, -1.80276005e-08,\n",
       "         4.15824578e-08, -2.24278240e-08, -8.77619211e-08,\n",
       "        -2.96854748e-08,  1.49975299e-08, -4.10745505e-09,\n",
       "        -1.33840869e-08, -8.42500783e-09, -9.50709076e-09,\n",
       "         7.80363539e-09,  6.48706935e-09, -7.20288224e-09,\n",
       "        -1.59359556e-08,  2.23747704e-08],\n",
       "       [-7.41901264e-08,  9.49597175e-08, -4.08386035e-08,\n",
       "        -3.79608146e-08,  1.14597775e-07,  3.46544369e-08,\n",
       "        -2.66197200e-07,  1.37307894e-07, -2.96854748e-08,\n",
       "         6.28863631e-08, -1.11806200e-07,  8.13493751e-08,\n",
       "        -1.29846059e-08,  2.32248527e-09,  4.55200647e-08,\n",
       "        -8.10762223e-08, -1.09620347e-07,  9.94079731e-08,\n",
       "         8.40733413e-08, -1.11459230e-07],\n",
       "       [ 2.67643965e-08, -6.24491268e-08, -8.37471943e-08,\n",
       "         1.11052804e-07, -4.28624699e-08, -1.47024093e-07,\n",
       "         9.31213130e-08, -5.85036114e-08,  1.49975299e-08,\n",
       "        -1.11806200e-07, -8.01079650e-08,  6.35144056e-08,\n",
       "        -1.60283292e-07, -8.70325703e-08, -4.15521919e-08,\n",
       "        -2.36254078e-08, -7.54044430e-08,  5.42614527e-08,\n",
       "        -5.93860474e-08,  9.20754706e-08],\n",
       "       [ 9.07758937e-09,  3.92620190e-08,  1.82733137e-07,\n",
       "        -1.71067299e-07, -1.12768780e-08,  2.38545504e-07,\n",
       "         3.78235050e-08, -6.12786228e-10, -4.10745505e-09,\n",
       "         8.13493751e-08,  6.35144056e-08, -2.70380269e-07,\n",
       "         2.99321814e-07,  1.55279887e-07,  3.97860828e-08,\n",
       "         1.05347012e-07,  2.20874991e-07, -1.74817466e-07,\n",
       "         4.21537831e-08, -7.99701315e-08],\n",
       "       [-6.03572462e-08,  6.47482832e-09, -2.80469923e-07,\n",
       "         2.13546863e-07,  8.94125481e-08, -3.09541703e-07,\n",
       "        -2.23871259e-07,  8.91882812e-08, -1.33840869e-08,\n",
       "        -1.29846059e-08, -1.60283292e-07,  2.99321814e-07,\n",
       "        -5.17565104e-07, -2.14512891e-07, -2.60607603e-08,\n",
       "        -1.98706009e-07, -3.77778506e-07,  3.07138674e-07,\n",
       "        -4.55150845e-09,  3.95386723e-08],\n",
       "       [-3.45987898e-08,  8.66055453e-09, -1.43487078e-07,\n",
       "         1.05321437e-07,  5.15212363e-08, -1.53824919e-07,\n",
       "        -1.27819572e-07,  5.27002034e-08, -8.42500783e-09,\n",
       "         2.32248527e-09, -8.70325703e-08,  1.55279887e-07,\n",
       "        -2.14512891e-07, -2.00665313e-07, -1.05273407e-08,\n",
       "        -1.04623158e-07, -1.96376287e-07,  1.60241456e-07,\n",
       "         2.49160050e-09,  1.35600558e-08],\n",
       "       [-2.51671211e-08,  2.85117811e-08, -2.67813780e-08,\n",
       "        -9.65672247e-11,  3.86747438e-08, -5.90374023e-09,\n",
       "        -9.06827235e-08,  4.54007937e-08, -9.50709076e-09,\n",
       "         4.55200647e-08, -4.15521919e-08,  3.97860828e-08,\n",
       "        -2.60607603e-08, -1.05273407e-08, -8.06878970e-08,\n",
       "        -3.44440712e-08, -5.22760085e-08,  4.55525433e-08,\n",
       "         2.47054028e-08, -3.10010158e-08],\n",
       "       [ 6.51933859e-09, -4.24971497e-08, -1.15713094e-07,\n",
       "         1.21278715e-07, -1.19124982e-08, -1.66009937e-07,\n",
       "         1.98658598e-08, -2.29313117e-08,  7.80363539e-09,\n",
       "        -8.10762223e-08, -2.36254078e-08,  1.05347012e-07,\n",
       "        -1.98706009e-07, -1.04623158e-07, -3.44440712e-08,\n",
       "        -1.49759228e-07, -1.29621963e-07,  1.00442951e-07,\n",
       "        -4.25874782e-08,  7.26265587e-08],\n",
       "       [-8.23713208e-09, -5.37707028e-08, -2.29194229e-07,\n",
       "         2.17886641e-07,  9.25401248e-09, -3.03035341e-07,\n",
       "        -3.61946742e-08, -5.21635176e-09,  6.48706935e-09,\n",
       "        -1.09620347e-07, -7.54044430e-08,  2.20874991e-07,\n",
       "        -3.77778506e-07, -1.96376287e-07, -5.22760085e-08,\n",
       "        -1.29621963e-07, -3.67235196e-07,  2.16633305e-07,\n",
       "        -5.69509282e-08,  1.05945960e-07],\n",
       "       [ 1.93058463e-09,  4.99594546e-08,  1.84212115e-07,\n",
       "        -1.80075661e-07, -1.53661691e-10,  2.49278136e-07,\n",
       "         1.23397372e-08,  1.31075905e-08, -7.20288224e-09,\n",
       "         9.94079731e-08,  5.42614527e-08, -1.74817466e-07,\n",
       "         3.07138674e-07,  1.60241456e-07,  4.55525433e-08,\n",
       "         1.00442951e-07,  2.16633305e-07, -2.63025319e-07,\n",
       "         5.18499982e-08, -9.35583099e-08],\n",
       "       [-3.96718532e-08,  5.11867649e-08, -2.04099094e-08,\n",
       "        -2.17104192e-08,  6.13011762e-08,  2.04812152e-08,\n",
       "        -1.42302031e-07,  7.35529992e-08, -1.59359556e-08,\n",
       "         8.40733413e-08, -5.93860474e-08,  4.21537831e-08,\n",
       "        -4.55150845e-09,  2.49160050e-09,  2.47054028e-08,\n",
       "        -4.25874782e-08, -5.69509282e-08,  5.18499982e-08,\n",
       "        -4.74524108e-08, -6.03528243e-08],\n",
       "       [ 5.78303372e-08, -6.89927378e-08,  4.93943345e-08,\n",
       "         1.22288990e-08, -8.90564275e-08, -3.02444750e-09,\n",
       "         2.08016603e-07, -1.05430492e-07,  2.23747704e-08,\n",
       "        -1.11459230e-07,  9.20754706e-08, -7.99701315e-08,\n",
       "         3.95386723e-08,  1.35600558e-08, -3.10010158e-08,\n",
       "         7.26265587e-08,  1.05945960e-07, -9.35583099e-08,\n",
       "        -6.03528243e-08, -1.51981004e-08]])"
      ]
     },
     "execution_count": 35,
     "metadata": {},
     "output_type": "execute_result"
    }
   ],
   "source": [
    "gl.matrix_lin_combo_pos_sign(result.x, sample_mats) - mat"
   ]
  },
  {
   "attachments": {},
   "cell_type": "markdown",
   "metadata": {},
   "source": [
    "### balance the coefficients, 1.0 constraint"
   ]
  },
  {
   "cell_type": "code",
   "execution_count": 40,
   "metadata": {},
   "outputs": [],
   "source": [
    "sample_mats = [0.4 * mat1, 0.6 * mat1, mat2]\n",
    "eta_init = gl.generate_random_eta(len(sample_mats))\n",
    "\n",
    "objective = lambda eta_arr: objective_with_params(eta_arr, mat, sample_mats, 0.00, verbose=False)\n",
    "\n",
    "result = scipy.optimize.minimize(\n",
    "    objective,\n",
    "    eta_init,\n",
    "    method='SLSQP',\n",
    "    jac=None,\n",
    "    bounds=[(0, 1) for _ in range(len(sample_mats))],\n",
    "    # constraints={'type': 'eq', 'fun': simplex_constraint},\n",
    "    options={\n",
    "        'maxiter': 10000,\n",
    "        'disp': False\n",
    "    }\n",
    ")"
   ]
  },
  {
   "cell_type": "code",
   "execution_count": 41,
   "metadata": {},
   "outputs": [
    {
     "data": {
      "text/plain": [
       "     fun: 1.0529541583447067e-06\n",
       "     jac: array([-1.15999999, -1.73999999, -2.9       ])\n",
       " message: 'Optimization terminated successfully'\n",
       "    nfev: 82\n",
       "     nit: 14\n",
       "    njev: 14\n",
       "  status: 0\n",
       " success: True\n",
       "       x: array([0.70890059, 0.3607322 , 0.50000017])"
      ]
     },
     "execution_count": 41,
     "metadata": {},
     "output_type": "execute_result"
    }
   ],
   "source": [
    "result"
   ]
  },
  {
   "cell_type": "code",
   "execution_count": 42,
   "metadata": {},
   "outputs": [
    {
     "data": {
      "text/plain": [
       "array([4.29771134e-07, 1.25838164e-07, 2.76302700e-08, 2.76302700e-08,\n",
       "       2.76302700e-08, 2.76302700e-08, 2.76302700e-08, 2.76302700e-08,\n",
       "       2.76302700e-08, 2.76302700e-08, 2.76302700e-08, 2.76302700e-08,\n",
       "       2.76302700e-08, 2.76302700e-08, 2.76302700e-08, 2.76302700e-08,\n",
       "       2.76302700e-08, 2.76302700e-08, 2.76302700e-08, 2.76302700e-08])"
      ]
     },
     "execution_count": 42,
     "metadata": {},
     "output_type": "execute_result"
    }
   ],
   "source": [
    "scipy.linalg.svdvals(gl.matrix_lin_combo_pos_sign(result.x, sample_mats) - mat)"
   ]
  },
  {
   "attachments": {},
   "cell_type": "markdown",
   "metadata": {},
   "source": [
    "Takeaway: When we remove the constraint of summing eta_i to 1.0, we see better performance. \n",
    "I would speculate that this is mainly a scaling issue - if we allow arbitrary [0,1] scaling of the validation matrix this should go away."
   ]
  },
  {
   "attachments": {},
   "cell_type": "markdown",
   "metadata": {},
   "source": [
    "# algo with scaling A^s as well"
   ]
  },
  {
   "cell_type": "code",
   "execution_count": 69,
   "metadata": {},
   "outputs": [],
   "source": [
    "def objective_with_params_scale_x0(eta_arr, validation_mat, \n",
    "        sample_mats, delta, num_eigs_included=None, verbose=False):\n",
    "    if verbose:\n",
    "        print(eta_arr)\n",
    "    if num_eigs_included is None:\n",
    "        num_eigs_included = validation_mat.shape[0]\n",
    "\n",
    "    # eta_1, ..., eta_m are the weights for the P_i\n",
    "    P_hat = matrix_lin_combo_pos_sign(eta_arr[1:], sample_mats)\n",
    "\n",
    "    # singular values, decreasing order\n",
    "    diff_sing_values = scipy.linalg.svdvals(eta_arr[0] * validation_mat - P_hat)\n",
    "\n",
    "    def ob_fn(k): \n",
    "        return sum(diff_sing_values[:k]) - k * delta\n",
    "\n",
    "    all_obj_values = [ob_fn(k) for k in range(1, num_eigs_included + 1)]\n",
    "    max_obj_index = np.argmax(all_obj_values)\n",
    "\n",
    "    return all_obj_values[max_obj_index]\n",
    "\n",
    "def run_scipy_minimize_with_x0(eta_init, sample_mats, validation_mat, delta, simplex_constraint=False,\n",
    "        num_eigs_included=None, verbose=False):\n",
    "    objective = lambda eta_arr: objective_with_params(eta_arr, validation_mat, sample_mats, 0.00, verbose=False)\n",
    "\n",
    "    # constraints=None\n",
    "    # if simplex_constraint: \n",
    "    #     constraints = {'type': 'eq', 'fun': simplex_constraint}\n",
    "    \n",
    "    if simplex_constraint: \n",
    "        result = scipy.optimize.minimize(\n",
    "            objective,\n",
    "            eta_init,\n",
    "            method='SLSQP',\n",
    "            jac=None,\n",
    "            bounds=[(0.1, 1)] + [(0, 1) for _ in range(len(sample_mats))],\n",
    "            constraints = {'type': 'eq', 'fun': simplex_constraint},\n",
    "            options={\n",
    "                'maxiter': 10000,\n",
    "                'disp': False\n",
    "            }\n",
    "        )\n",
    "    else: \n",
    "        result = scipy.optimize.minimize(\n",
    "            objective,\n",
    "            eta_init,\n",
    "            method='SLSQP',\n",
    "            jac=None,\n",
    "            bounds=[(0.1, 1)] + [(0, 1) for _ in range(len(sample_mats))],\n",
    "            options={\n",
    "                'maxiter': 10000,\n",
    "                'disp': False\n",
    "            }\n",
    "        )\n",
    "    return result\n"
   ]
  },
  {
   "attachments": {},
   "cell_type": "markdown",
   "metadata": {},
   "source": [
    "## run with scaling constraint"
   ]
  },
  {
   "cell_type": "code",
   "execution_count": 85,
   "metadata": {},
   "outputs": [],
   "source": [
    "eigenbasis_matrix = scipy.stats.ortho_group.rvs(20)\n",
    "mat1 = eigenbasis_matrix @ np.diag([1.0] +\n",
    "                                   [0.1 for _ in range(19)]) @ eigenbasis_matrix.T\n",
    "mat2 = eigenbasis_matrix @ np.diag([0.1, 1.0] +\n",
    "                                   [0.1 for _ in range(18)]) @ eigenbasis_matrix.T\n",
    "mat = 0.5 * mat1 + 0.5 * mat2\n"
   ]
  },
  {
   "cell_type": "code",
   "execution_count": 86,
   "metadata": {},
   "outputs": [],
   "source": [
    "sample_mats = [0.4 * mat1, 0.2 * mat1, mat2]\n",
    "eta_init = gl.generate_random_eta(len(sample_mats) + 1)\n",
    "objective = lambda eta: objective_with_params_scale_x0(eta, mat, sample_mats, delta=0.00)\n",
    "\n",
    "result = scipy.optimize.minimize(\n",
    "    objective,\n",
    "    eta_init,\n",
    "    method='SLSQP',\n",
    "    jac=None,\n",
    "    constraints={'type': 'eq', 'fun': lambda x: np.sum(x) - 1.0},\n",
    "    bounds=[(0.1, 1)] + [(0, 1) for _ in range(len(sample_mats))],\n",
    "    options={\n",
    "        'maxiter': 10000,\n",
    "        'disp': False\n",
    "    }\n",
    ")"
   ]
  },
  {
   "cell_type": "code",
   "execution_count": 93,
   "metadata": {},
   "outputs": [
    {
     "data": {
      "text/plain": [
       "False"
      ]
     },
     "execution_count": 93,
     "metadata": {},
     "output_type": "execute_result"
    }
   ],
   "source": [
    "np.isclose(result['fun'], 0.0, atol=1e-6)\n"
   ]
  },
  {
   "cell_type": "code",
   "execution_count": 88,
   "metadata": {},
   "outputs": [
    {
     "data": {
      "text/plain": [
       "     fun: 3.3553541346979394e-06\n",
       "     jac: array([ 1.8 , -1.08, -0.54, -0.9 ])\n",
       " message: 'Optimization terminated successfully'\n",
       "    nfev: 96\n",
       "     nit: 15\n",
       "    njev: 15\n",
       "  status: 0\n",
       " success: True\n",
       "       x: array([0.31753004, 0.27011995, 0.2535863 , 0.15876371])"
      ]
     },
     "execution_count": 88,
     "metadata": {},
     "output_type": "execute_result"
    }
   ],
   "source": [
    "result"
   ]
  },
  {
   "cell_type": "code",
   "execution_count": 87,
   "metadata": {},
   "outputs": [
    {
     "data": {
      "text/plain": [
       "1.5321416191038661e-06"
      ]
     },
     "execution_count": 87,
     "metadata": {},
     "output_type": "execute_result"
    }
   ],
   "source": [
    "result['x'][1] * 0.4 + result['x'][2] * 0.2 - result['x'][3] * 1.0"
   ]
  },
  {
   "cell_type": "code",
   "execution_count": 84,
   "metadata": {},
   "outputs": [
    {
     "data": {
      "text/plain": [
       "     fun: 2.5735112134384053e-07\n",
       "     jac: array([ 1.8 , -1.08, -0.54, -0.9 ])\n",
       " message: 'Optimization terminated successfully'\n",
       "    nfev: 101\n",
       "     nit: 16\n",
       "    njev: 16\n",
       "  status: 0\n",
       " success: True\n",
       "       x: array([0.33033627, 0.28121499, 0.26341073, 0.16516822])"
      ]
     },
     "execution_count": 84,
     "metadata": {},
     "output_type": "execute_result"
    }
   ],
   "source": []
  },
  {
   "cell_type": "code",
   "execution_count": 89,
   "metadata": {},
   "outputs": [
    {
     "data": {
      "text/plain": [
       "array([1.29337188e-06, 1.09801482e-07, 1.09801482e-07, 1.09801482e-07,\n",
       "       1.09801482e-07, 1.09801482e-07, 1.09801482e-07, 1.09801482e-07,\n",
       "       1.09801482e-07, 1.09801482e-07, 1.09801482e-07, 1.09801482e-07,\n",
       "       1.09801482e-07, 1.09801482e-07, 1.09801482e-07, 1.09801482e-07,\n",
       "       1.09801482e-07, 1.09801482e-07, 1.09801482e-07, 8.55555771e-08])"
      ]
     },
     "execution_count": 89,
     "metadata": {},
     "output_type": "execute_result"
    }
   ],
   "source": [
    "scipy.linalg.svdvals(result['x'][0] * mat - gl.matrix_lin_combo_pos_sign(result['x'][1:], sample_mats))"
   ]
  },
  {
   "cell_type": "code",
   "execution_count": 74,
   "metadata": {},
   "outputs": [
    {
     "data": {
      "text/plain": [
       "array([0.42719377, 0.18227109, 0.0554059 , 0.0554059 , 0.0554059 ,\n",
       "       0.0554059 , 0.0554059 , 0.0554059 , 0.0554059 , 0.0554059 ,\n",
       "       0.0554059 , 0.0554059 , 0.0554059 , 0.0554059 , 0.0554059 ,\n",
       "       0.0554059 , 0.0554059 , 0.0554059 , 0.0554059 , 0.0554059 ])"
      ]
     },
     "execution_count": 74,
     "metadata": {},
     "output_type": "execute_result"
    }
   ],
   "source": [
    "scipy.linalg.svdvals(result['x'][0] * mat \n",
    "    - gl.matrix_lin_combo_pos_sign(result['x'][1:], sample_mats))"
   ]
  },
  {
   "cell_type": "code",
   "execution_count": null,
   "metadata": {},
   "outputs": [],
   "source": []
  }
 ],
 "metadata": {
  "kernelspec": {
   "display_name": "base",
   "language": "python",
   "name": "python3"
  },
  "language_info": {
   "codemirror_mode": {
    "name": "ipython",
    "version": 3
   },
   "file_extension": ".py",
   "mimetype": "text/x-python",
   "name": "python",
   "nbconvert_exporter": "python",
   "pygments_lexer": "ipython3",
   "version": "3.9.7"
  },
  "orig_nbformat": 4
 },
 "nbformat": 4,
 "nbformat_minor": 2
}
